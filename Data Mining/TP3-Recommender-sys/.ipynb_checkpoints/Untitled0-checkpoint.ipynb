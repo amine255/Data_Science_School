{
 "metadata": {
  "name": "",
  "signature": "sha256:aa707ee97565d180b57e56e2c9185ce069af7bbaf941e4da83d753f27c42f876"
 },
 "nbformat": 3,
 "nbformat_minor": 0,
 "worksheets": [
  {
   "cells": [
    {
     "cell_type": "code",
     "collapsed": false,
     "input": [
      "import numpy as np\n",
      "from scipy.sparse import coo_matrix"
     ],
     "language": "python",
     "metadata": {},
     "outputs": [],
     "prompt_number": 7
    },
    {
     "cell_type": "code",
     "collapsed": false,
     "input": [
      "def import_data(u_base_path,u_test_path):\n",
      "    \n",
      "    data_train = np.loadtxt(u_base_path)\n",
      "    data_test = np.loadtxt(u_test_path)\n",
      "    \n",
      "    return data_train,data_test"
     ],
     "language": "python",
     "metadata": {},
     "outputs": [],
     "prompt_number": 8
    },
    {
     "cell_type": "code",
     "collapsed": false,
     "input": [
      "#u.data  user id | item id | rating | timestamp.\n",
      "u1_base= \"/users/Etu6/3402426/Documents/M2/Data Mining/TP3-recommender-sys/data/ml-100k/u1.base\"\n",
      "u1_test= \"/users/Etu6/3402426/Documents/M2/Data Mining/TP3-recommender-sys/data/ml-100k/u1.test\"\n",
      "data_train,data_test = import_data(u1_base,u1_test)    \n",
      "    \n",
      "    "
     ],
     "language": "python",
     "metadata": {},
     "outputs": [
      {
       "ename": "IOError",
       "evalue": "[Errno 2] No such file or directory: '/users/Etu6/3402426/Documents/M2/Data Mining/TP3-recommender-sys/data/ml-100k/u1.base'",
       "output_type": "pyerr",
       "traceback": [
        "\u001b[1;31m---------------------------------------------------------------------------\u001b[0m\n\u001b[1;31mIOError\u001b[0m                                   Traceback (most recent call last)",
        "\u001b[1;32m<ipython-input-9-bccd7302f7c7>\u001b[0m in \u001b[0;36m<module>\u001b[1;34m()\u001b[0m\n\u001b[0;32m      2\u001b[0m \u001b[0mu1_base\u001b[0m\u001b[1;33m=\u001b[0m \u001b[1;34m\"/users/Etu6/3402426/Documents/M2/Data Mining/TP3-recommender-sys/data/ml-100k/u1.base\"\u001b[0m\u001b[1;33m\u001b[0m\u001b[0m\n\u001b[0;32m      3\u001b[0m \u001b[0mu1_test\u001b[0m\u001b[1;33m=\u001b[0m \u001b[1;34m\"/users/Etu6/3402426/Documents/M2/Data Mining/TP3-recommender-sys/data/ml-100k/u1.test\"\u001b[0m\u001b[1;33m\u001b[0m\u001b[0m\n\u001b[1;32m----> 4\u001b[1;33m \u001b[0mdata_train\u001b[0m\u001b[1;33m,\u001b[0m\u001b[0mdata_test\u001b[0m \u001b[1;33m=\u001b[0m \u001b[0mimport_data\u001b[0m\u001b[1;33m(\u001b[0m\u001b[0mu1_base\u001b[0m\u001b[1;33m,\u001b[0m\u001b[0mu1_test\u001b[0m\u001b[1;33m)\u001b[0m\u001b[1;33m\u001b[0m\u001b[0m\n\u001b[0m\u001b[0;32m      5\u001b[0m \u001b[1;33m\u001b[0m\u001b[0m\n\u001b[0;32m      6\u001b[0m \u001b[1;33m\u001b[0m\u001b[0m\n",
        "\u001b[1;32m<ipython-input-8-406882c0388d>\u001b[0m in \u001b[0;36mimport_data\u001b[1;34m(u_base_path, u_test_path)\u001b[0m\n\u001b[0;32m      1\u001b[0m \u001b[1;32mdef\u001b[0m \u001b[0mimport_data\u001b[0m\u001b[1;33m(\u001b[0m\u001b[0mu_base_path\u001b[0m\u001b[1;33m,\u001b[0m\u001b[0mu_test_path\u001b[0m\u001b[1;33m)\u001b[0m\u001b[1;33m:\u001b[0m\u001b[1;33m\u001b[0m\u001b[0m\n\u001b[0;32m      2\u001b[0m \u001b[1;33m\u001b[0m\u001b[0m\n\u001b[1;32m----> 3\u001b[1;33m     \u001b[0mdata_train\u001b[0m \u001b[1;33m=\u001b[0m \u001b[0mnp\u001b[0m\u001b[1;33m.\u001b[0m\u001b[0mloadtxt\u001b[0m\u001b[1;33m(\u001b[0m\u001b[0mu_base_path\u001b[0m\u001b[1;33m)\u001b[0m\u001b[1;33m\u001b[0m\u001b[0m\n\u001b[0m\u001b[0;32m      4\u001b[0m     \u001b[0mdata_test\u001b[0m \u001b[1;33m=\u001b[0m \u001b[0mnp\u001b[0m\u001b[1;33m.\u001b[0m\u001b[0mloadtxt\u001b[0m\u001b[1;33m(\u001b[0m\u001b[0mu_test_path\u001b[0m\u001b[1;33m)\u001b[0m\u001b[1;33m\u001b[0m\u001b[0m\n\u001b[0;32m      5\u001b[0m \u001b[1;33m\u001b[0m\u001b[0m\n",
        "\u001b[1;32m/usr/lib/python2.7/dist-packages/numpy/lib/npyio.pyc\u001b[0m in \u001b[0;36mloadtxt\u001b[1;34m(fname, dtype, comments, delimiter, converters, skiprows, usecols, unpack, ndmin)\u001b[0m\n\u001b[0;32m    732\u001b[0m                 \u001b[0mfh\u001b[0m \u001b[1;33m=\u001b[0m \u001b[0miter\u001b[0m\u001b[1;33m(\u001b[0m\u001b[0mbz2\u001b[0m\u001b[1;33m.\u001b[0m\u001b[0mBZ2File\u001b[0m\u001b[1;33m(\u001b[0m\u001b[0mfname\u001b[0m\u001b[1;33m)\u001b[0m\u001b[1;33m)\u001b[0m\u001b[1;33m\u001b[0m\u001b[0m\n\u001b[0;32m    733\u001b[0m             \u001b[1;32melif\u001b[0m \u001b[0msys\u001b[0m\u001b[1;33m.\u001b[0m\u001b[0mversion_info\u001b[0m\u001b[1;33m[\u001b[0m\u001b[1;36m0\u001b[0m\u001b[1;33m]\u001b[0m \u001b[1;33m==\u001b[0m \u001b[1;36m2\u001b[0m\u001b[1;33m:\u001b[0m\u001b[1;33m\u001b[0m\u001b[0m\n\u001b[1;32m--> 734\u001b[1;33m                 \u001b[0mfh\u001b[0m \u001b[1;33m=\u001b[0m \u001b[0miter\u001b[0m\u001b[1;33m(\u001b[0m\u001b[0mopen\u001b[0m\u001b[1;33m(\u001b[0m\u001b[0mfname\u001b[0m\u001b[1;33m,\u001b[0m \u001b[1;34m'U'\u001b[0m\u001b[1;33m)\u001b[0m\u001b[1;33m)\u001b[0m\u001b[1;33m\u001b[0m\u001b[0m\n\u001b[0m\u001b[0;32m    735\u001b[0m             \u001b[1;32melse\u001b[0m\u001b[1;33m:\u001b[0m\u001b[1;33m\u001b[0m\u001b[0m\n\u001b[0;32m    736\u001b[0m                 \u001b[0mfh\u001b[0m \u001b[1;33m=\u001b[0m \u001b[0miter\u001b[0m\u001b[1;33m(\u001b[0m\u001b[0mopen\u001b[0m\u001b[1;33m(\u001b[0m\u001b[0mfname\u001b[0m\u001b[1;33m)\u001b[0m\u001b[1;33m)\u001b[0m\u001b[1;33m\u001b[0m\u001b[0m\n",
        "\u001b[1;31mIOError\u001b[0m: [Errno 2] No such file or directory: '/users/Etu6/3402426/Documents/M2/Data Mining/TP3-recommender-sys/data/ml-100k/u1.base'"
       ]
      }
     ],
     "prompt_number": 9
    },
    {
     "cell_type": "code",
     "collapsed": false,
     "input": [
      "user_id  = np.array([0,3,1,0])\n",
      "item_id  = np.array([0,3,1,2])\n",
      "rating = np.array([4,5,7,9])\n",
      "\n",
      "for i in range(0,100)\n",
      "\n",
      "coo_matrix((data,(row,col)), shape=(4,4)).todense()\n",
      "\n",
      "\n",
      "            \n",
      "            #data[:] the entries of the matrix, in any order\n",
      "            #i[:] the row indices of the matrix entries\n",
      "            #j[:] the column indices of the matrix entries\n",
      "            #coo_matrix((data, (i, j)), [shape=(M, N)])\n"
     ],
     "language": "python",
     "metadata": {},
     "outputs": [
      {
       "metadata": {},
       "output_type": "pyout",
       "prompt_number": 115,
       "text": [
        "matrix([[4, 0, 9, 0],\n",
        "        [0, 7, 0, 0],\n",
        "        [0, 0, 0, 0],\n",
        "        [0, 0, 0, 5]])"
       ]
      }
     ],
     "prompt_number": 115
    },
    {
     "cell_type": "code",
     "collapsed": false,
     "input": [
      "prediction = np.zeros(([nb_client,2]))\n",
      "prediction.shape[0]"
     ],
     "language": "python",
     "metadata": {},
     "outputs": [
      {
       "metadata": {},
       "output_type": "pyout",
       "prompt_number": 92,
       "text": [
        "943"
       ]
      }
     ],
     "prompt_number": 92
    },
    {
     "cell_type": "code",
     "collapsed": false,
     "input": [
      "for i in range(1,prediction.shape[0]):   \n",
      "    moy = 0\n",
      "    A = np.where(data[:,0]==i,1,0)\n",
      "    B =A.nonzero()\n",
      "    #print len(B[0])\n",
      "    for j in range(len(B[0])):\n",
      "        moy +=data[j,2]\n",
      "    prediction[i,0]= i        \n",
      "    prediction[i,1]= moy/len(B[0])"
     ],
     "language": "python",
     "metadata": {},
     "outputs": [],
     "prompt_number": 96
    },
    {
     "cell_type": "code",
     "collapsed": false,
     "input": [
      "prediction"
     ],
     "language": "python",
     "metadata": {},
     "outputs": [
      {
       "metadata": {},
       "output_type": "pyout",
       "prompt_number": 116,
       "text": [
        "array([[   0.        ,    0.        ],\n",
        "       [   1.        ,    3.68148148],\n",
        "       [   2.        ,    3.625     ],\n",
        "       ..., \n",
        "       [ 940.        ,    3.75700935],\n",
        "       [ 941.        ,    3.59090909],\n",
        "       [ 942.        ,    3.59493671]])"
       ]
      }
     ],
     "prompt_number": 116
    },
    {
     "cell_type": "code",
     "collapsed": false,
     "input": [],
     "language": "python",
     "metadata": {},
     "outputs": [],
     "prompt_number": 85
    },
    {
     "cell_type": "code",
     "collapsed": false,
     "input": [],
     "language": "python",
     "metadata": {},
     "outputs": []
    }
   ],
   "metadata": {}
  }
 ]
}