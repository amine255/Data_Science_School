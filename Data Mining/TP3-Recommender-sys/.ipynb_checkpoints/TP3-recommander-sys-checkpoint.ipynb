{
 "metadata": {
  "name": "",
  "signature": "sha256:f82db885145d73a39393dab975af8c5e8d68dea70c7bc72c05143fd4b88e25b3"
 },
 "nbformat": 3,
 "nbformat_minor": 0,
 "worksheets": [
  {
   "cells": [
    {
     "cell_type": "code",
     "collapsed": false,
     "input": [
      "import numpy as np\n",
      "import scipy.linalg as lin\n",
      "import matplotlib.pyplot as plt"
     ],
     "language": "python",
     "metadata": {},
     "outputs": [],
     "prompt_number": 4
    },
    {
     "cell_type": "code",
     "collapsed": false,
     "input": [
      "# coding: utf-8\n",
      "\n",
      "\n",
      "def import_data_tain_test(train_db, test_db):\n",
      "    # u.data  user id | item id | rating | timestamp.\n",
      "    data_train = np.loadtxt(train_db)\n",
      "    data_test = np.loadtxt(test_db)\n",
      "    return data_train, data_test\n",
      "\n",
      "\n",
      "def bias_calculus(data):\n",
      "    maxs = data.max(0)  # extraction des nb d'utilisateurs et d'item\n",
      "    nu = maxs[0] + 1\n",
      "    ni = maxs[1] + 1\n",
      "    user_bias = np.zeros(nu)\n",
      "    item_bias = np.zeros(ni)\n",
      "    user_count = np.zeros(nu)\n",
      "    item_count = np.zeros(ni)\n",
      "    # systeme basique: plus simple de travailler sur les triplets\n",
      "    for iteration in xrange(len(data)):\n",
      "        u = data[iteration, 0]\n",
      "        i = data[iteration, 1]\n",
      "        r = data[iteration, 2]\n",
      "        user_bias[u] += r\n",
      "        item_bias[i] += r\n",
      "        user_count[u] += 1\n",
      "        item_count[i] += 1\n",
      "    \n",
      "    # ATTENTION AUX DIVISIONS PAR 0 !!\n",
      "    user_bias /= np.where(user_count == 0, 1, user_count)\n",
      "    item_bias /= np.where(item_count == 0, 1, item_count)\n",
      "    print u\"user and item biases computed.\"    \n",
      "\n",
      "\n",
      "    return user_bias,item_bias\n",
      "\n",
      "\n",
      "def plot_distribution(user_bias,item_bias):\n",
      "    \n",
      "    plt.figure()\n",
      "    plt.subplot(211)\n",
      "    plt.hist(user_bias,100)\n",
      "    plt.title('Utilisateur')    \n",
      "    plt.subplot(212)\n",
      "    plt.hist(item_bias,100)\n",
      "    plt.title('Item')\n",
      "    plt.savefig(\"recoBias.pdf\")\n",
      "\n",
      "\n",
      "def matrix_facotisation(data):\n",
      "    # factorisation matricielle: on travaille de nouveau sur les triplets pour minimiser les hypoth\u00e8ses\n",
      "    # sur les cases vides\n",
      "    maxs = data.max(0)  # extraction des nb d'utilisateurs et d'item\n",
      "    nu = maxs[0] + 1\n",
      "    ni = maxs[1] + 1\n",
      "\n",
      "    # param\u00e9trage\n",
      "    random = np.random.RandomState(0)\n",
      "    epochs = 5 # nb de passage sur la base\n",
      "    nZ = 10 # taille de l'espace latent\n",
      "    l1_weight = 0.00 # contraintes de r\u00e9gularization L1 + L2\n",
      "    l2_weight = 0.0001\n",
      "    learning_rate = 0.001\n",
      "\n",
      "    train_indexes = np.arange(len(data)) # pour cet exemple, je prends tous les indices en apprentissage...\n",
      "\n",
      "    # initialisation \u00e0 moiti\u00e9 vide... randn + seuillage > 0\n",
      "    user_latent = np.random.randn(nu, nZ)\n",
      "    item_latent = np.random.randn(ni, nZ)\n",
      "    user_latent = np.where(user_latent > 0, user_latent, 0) # profils positifs sparses\n",
      "    item_latent = np.where(item_latent > 0, item_latent, 0)\n",
      "\n",
      "    for epoch in xrange(epochs):\n",
      "        print \"epoch : %d\"%epoch\n",
      "        # Update\n",
      "        random.shuffle(train_indexes)\n",
      "        for index in train_indexes:\n",
      "            # extraction des variables => lisibilit\u00e9\n",
      "            label, user, item = data[index,2], data[index,0], data[index,1]\n",
      "            gamma_u, gamma_i = user_latent[user, :], item_latent[item, :]\n",
      "            # Optimisation\n",
      "            delta_label = 2 * (label - np.dot(gamma_u, gamma_i))\n",
      "            gradient_u = l2_weight * gamma_u + l1_weight - delta_label * gamma_i\n",
      "            gamma_u_prime = gamma_u - learning_rate * gradient_u\n",
      "            user_latent[user, :] = np.where(gamma_u_prime * gamma_u > 0, gamma_u_prime, 0) # MAJ user\n",
      "            gradient_i = l2_weight * gamma_i + l1_weight - delta_label * gamma_u\n",
      "            gamma_i_prime = gamma_i - learning_rate * gradient_i\n",
      "            item_latent[item, :] = np.where(gamma_i_prime * gamma_i > 0, gamma_i_prime, 0) # MAJ item\n",
      "    return user_latent, item_latent\n",
      "\n",
      "\n",
      "def user_visualisation(user_latent):\n",
      "    # visualisation des users\n",
      "    plt.figure()\n",
      "    plt.imshow(user_latent[:100,:], interpolation=\"nearest\") # 100 premiers utilisateurs\n",
      "    plt.colorbar()\n",
      "    #plt.savefig(\"userLatent.pdf\")\n",
      "    \n",
      "def item_visualisation(item_latent):\n",
      "    # visualisation des users\n",
      "    code,sig,dico = lin.svd(item_latent)\n",
      "    item2d = code[:,:2] # deux premieres colonnes = 2 premi\u00e8res valeurs singuli\u00e8res (les plus fortes)\n",
      "\n",
      "    plt.figure()\n",
      "    plt.scatter(item2d[:,0], item2d[:,1])\n",
      "    #plt.savefig(\"itemLatent.pdf\")\n",
      "    \n",
      "def Sparse(data):\n",
      "    nu = max(data[:,0]) ; #print \"nu :\", nu\n",
      "    ni = max(data[:,1]) ; #print \"ni :\", ni\n",
      "    row = data[:,0]\n",
      "    col = data[:,1] \n",
      "    rat = data[:,2]\n",
      "    A  = coo_matrix((rat,(row,col))).todense()\n",
      "    return A[1:,1:]"
     ],
     "language": "python",
     "metadata": {},
     "outputs": [],
     "prompt_number": 5
    },
    {
     "cell_type": "code",
     "collapsed": false,
     "input": [
      "# import data \n",
      "train_db = \"/home/arda-mint/Documents/M2/Data Mining/TP3-Recommender-sys/data/u1.base\"\n",
      "test_db = \"/home/arda-mint/Documents/M2/Data Mining/TP3-Recommender-sys/data/u1.test\"\n",
      "\n",
      "data = np.loadtxt(train_db)\n",
      "print data.shape\n",
      "\n",
      "urs = Sparse(data) ; print \"user_row_sparse.shape :\", user_row_sparse.shape\n",
      "irs = urs.T ; print \"item_row_sparse.shape :\", item_row_sparse.shape\n",
      "\n"
     ],
     "language": "python",
     "metadata": {},
     "outputs": [
      {
       "output_type": "stream",
       "stream": "stdout",
       "text": [
        "(80000, 4)\n"
       ]
      },
      {
       "ename": "NameError",
       "evalue": "global name 'coo_matrix' is not defined",
       "output_type": "pyerr",
       "traceback": [
        "\u001b[1;31m---------------------------------------------------------------------------\u001b[0m\n\u001b[1;31mNameError\u001b[0m                                 Traceback (most recent call last)",
        "\u001b[1;32m<ipython-input-6-cb9fc4284401>\u001b[0m in \u001b[0;36m<module>\u001b[1;34m()\u001b[0m\n\u001b[0;32m      6\u001b[0m \u001b[1;32mprint\u001b[0m \u001b[0mdata\u001b[0m\u001b[1;33m.\u001b[0m\u001b[0mshape\u001b[0m\u001b[1;33m\u001b[0m\u001b[0m\n\u001b[0;32m      7\u001b[0m \u001b[1;33m\u001b[0m\u001b[0m\n\u001b[1;32m----> 8\u001b[1;33m \u001b[0murs\u001b[0m \u001b[1;33m=\u001b[0m \u001b[0mSparse\u001b[0m\u001b[1;33m(\u001b[0m\u001b[0mdata\u001b[0m\u001b[1;33m)\u001b[0m \u001b[1;33m;\u001b[0m \u001b[1;32mprint\u001b[0m \u001b[1;34m\"user_row_sparse.shape :\"\u001b[0m\u001b[1;33m,\u001b[0m \u001b[0muser_row_sparse\u001b[0m\u001b[1;33m.\u001b[0m\u001b[0mshape\u001b[0m\u001b[1;33m\u001b[0m\u001b[0m\n\u001b[0m\u001b[0;32m      9\u001b[0m \u001b[0mirs\u001b[0m \u001b[1;33m=\u001b[0m \u001b[0murs\u001b[0m\u001b[1;33m.\u001b[0m\u001b[0mT\u001b[0m \u001b[1;33m;\u001b[0m \u001b[1;32mprint\u001b[0m \u001b[1;34m\"item_row_sparse.shape :\"\u001b[0m\u001b[1;33m,\u001b[0m \u001b[0mitem_row_sparse\u001b[0m\u001b[1;33m.\u001b[0m\u001b[0mshape\u001b[0m\u001b[1;33m\u001b[0m\u001b[0m\n\u001b[0;32m     10\u001b[0m \u001b[1;33m\u001b[0m\u001b[0m\n",
        "\u001b[1;32m<ipython-input-5-82ea23eeb0d1>\u001b[0m in \u001b[0;36mSparse\u001b[1;34m(data)\u001b[0m\n\u001b[0;32m    112\u001b[0m     \u001b[0mcol\u001b[0m \u001b[1;33m=\u001b[0m \u001b[0mdata\u001b[0m\u001b[1;33m[\u001b[0m\u001b[1;33m:\u001b[0m\u001b[1;33m,\u001b[0m\u001b[1;36m1\u001b[0m\u001b[1;33m]\u001b[0m\u001b[1;33m\u001b[0m\u001b[0m\n\u001b[0;32m    113\u001b[0m     \u001b[0mrat\u001b[0m \u001b[1;33m=\u001b[0m \u001b[0mdata\u001b[0m\u001b[1;33m[\u001b[0m\u001b[1;33m:\u001b[0m\u001b[1;33m,\u001b[0m\u001b[1;36m2\u001b[0m\u001b[1;33m]\u001b[0m\u001b[1;33m\u001b[0m\u001b[0m\n\u001b[1;32m--> 114\u001b[1;33m     \u001b[0mA\u001b[0m  \u001b[1;33m=\u001b[0m \u001b[0mcoo_matrix\u001b[0m\u001b[1;33m(\u001b[0m\u001b[1;33m(\u001b[0m\u001b[0mrat\u001b[0m\u001b[1;33m,\u001b[0m\u001b[1;33m(\u001b[0m\u001b[0mrow\u001b[0m\u001b[1;33m,\u001b[0m\u001b[0mcol\u001b[0m\u001b[1;33m)\u001b[0m\u001b[1;33m)\u001b[0m\u001b[1;33m)\u001b[0m\u001b[1;33m.\u001b[0m\u001b[0mtodense\u001b[0m\u001b[1;33m(\u001b[0m\u001b[1;33m)\u001b[0m\u001b[1;33m\u001b[0m\u001b[0m\n\u001b[0m\u001b[0;32m    115\u001b[0m     \u001b[1;32mreturn\u001b[0m \u001b[0mA\u001b[0m\u001b[1;33m[\u001b[0m\u001b[1;36m1\u001b[0m\u001b[1;33m:\u001b[0m\u001b[1;33m,\u001b[0m\u001b[1;36m1\u001b[0m\u001b[1;33m:\u001b[0m\u001b[1;33m]\u001b[0m\u001b[1;33m\u001b[0m\u001b[0m\n",
        "\u001b[1;31mNameError\u001b[0m: global name 'coo_matrix' is not defined"
       ]
      }
     ],
     "prompt_number": 6
    },
    {
     "cell_type": "code",
     "collapsed": false,
     "input": [],
     "language": "python",
     "metadata": {},
     "outputs": [],
     "prompt_number": 696
    },
    {
     "cell_type": "code",
     "collapsed": false,
     "input": [
      "ub = np.zeros(urs[:,0].shape)\n",
      "for i in range(urs.shape[0]):\n",
      "    one = urs[i,:]                          #getting one user rating vector\n",
      "    none_zero_length = one[one!=0].shape[1] #retaining only non zero value\n",
      "    bias = one.sum()/none_zero_length       #getting bias(average) of this vector\n",
      "    ub[i,0] = bias\n",
      "    \n",
      "ib = np.zeros(irs[:,0].shape)\n",
      "\n",
      "for i in range(irs.shape[0]):\n",
      "    \n",
      "    one = irs[i,:]\n",
      "    none_zero_length = one[one!=0].shape[1]\n",
      "    #print none_zero_length\n",
      "    if none_zero_length==0:\n",
      "        ib[i,0] = 2.5\n",
      "    else:\n",
      "        bias = one.sum()/none_zero_length\n",
      "        ib[i,0] = bias \n"
     ],
     "language": "python",
     "metadata": {},
     "outputs": [],
     "prompt_number": 712
    },
    {
     "cell_type": "code",
     "collapsed": false,
     "input": [
      "for i in range(ib.shape[0]):\n",
      "    #print ib[i].shape\n",
      "    #print i\n",
      "    #print ib[i]\n",
      "    if ib[i].shape[0]==0:\n",
      "        print ib"
     ],
     "language": "python",
     "metadata": {},
     "outputs": [],
     "prompt_number": 682
    },
    {
     "cell_type": "code",
     "collapsed": false,
     "input": [
      "ib[710,:]"
     ],
     "language": "python",
     "metadata": {},
     "outputs": [
      {
       "metadata": {},
       "output_type": "pyout",
       "prompt_number": 714,
       "text": [
        "array([ 2.5])"
       ]
      }
     ],
     "prompt_number": 714
    },
    {
     "cell_type": "code",
     "collapsed": false,
     "input": [
      "print ub.shape\n",
      "print ib.shape\n",
      "print urs.shape"
     ],
     "language": "python",
     "metadata": {},
     "outputs": [
      {
       "output_type": "stream",
       "stream": "stdout",
       "text": [
        "(943, 1)\n",
        "(1682, 1)\n",
        "(943, 1682)\n"
       ]
      }
     ],
     "prompt_number": 715
    },
    {
     "cell_type": "code",
     "collapsed": false,
     "input": [
      "for i in range(urs.shape[0]):\n",
      "    urs[i,:]= np.where(urs[i,:]==0,ub[i],urs[i,:])\n",
      "    \n",
      "for i in range(irs.shape[0]):\n",
      "    irs[i,:]= np.where(irs[i,:]==0,ib[i],irs[i,:])"
     ],
     "language": "python",
     "metadata": {},
     "outputs": [],
     "prompt_number": 275
    },
    {
     "cell_type": "code",
     "collapsed": false,
     "input": [
      "ib[710]"
     ],
     "language": "python",
     "metadata": {},
     "outputs": [
      {
       "metadata": {},
       "output_type": "pyout",
       "prompt_number": 705,
       "text": [
        "array([ nan])"
       ]
      }
     ],
     "prompt_number": 705
    },
    {
     "cell_type": "code",
     "collapsed": false,
     "input": [
      "data_test = np.loadtxt(test_db)\n",
      "\n",
      "urs_t = Sparse(data_test) ; print \"user_row_sparse.shape :\", urs_t.shape\n",
      "irs_t = urs_t.T ; print \"item_row_sparse.shape :\", irs_t.shape"
     ],
     "language": "python",
     "metadata": {},
     "outputs": [
      {
       "output_type": "stream",
       "stream": "stdout",
       "text": [
        "user_row_sparse.shape : (462, 1591)\n",
        "item_row_sparse.shape : (1591, 462)\n"
       ]
      }
     ],
     "prompt_number": 716
    },
    {
     "cell_type": "code",
     "collapsed": false,
     "input": [
      "MSE = 0\n",
      "count = 0\n",
      "\n",
      "for i in range(urs_t.shape[0]):\n",
      "    temp = urs_t[i,:]\n",
      "    pos = temp[temp!=0]\n",
      "    \n",
      "    length = pos.shape[1]\n",
      "    \n",
      "    if length>0:\n",
      "        diff = ub[i]-pos\n",
      "        MSE += np.square(diff).sum()/length\n",
      "        count+=1\n",
      "print MSE/count"
     ],
     "language": "python",
     "metadata": {},
     "outputs": [
      {
       "output_type": "stream",
       "stream": "stdout",
       "text": [
        "1.1143945125\n"
       ]
      }
     ],
     "prompt_number": 717
    },
    {
     "cell_type": "code",
     "collapsed": false,
     "input": [
      "MSE = 0\n",
      "count = 0\n",
      "\n",
      "for i in range(irs_t.shape[0]):\n",
      "    temp = irs_t[i,:]\n",
      "    pos = temp[temp!=0]\n",
      "    \n",
      "    length = pos.shape[1]\n",
      "    \n",
      "    if length>0:\n",
      "        #print pos\n",
      "        #print ib[i]\n",
      "        diff = ib[i]-pos\n",
      "        MSE += np.square(diff).sum()/length\n",
      "        count+=1\n",
      "print MSE/count"
     ],
     "language": "python",
     "metadata": {},
     "outputs": [
      {
       "output_type": "stream",
       "stream": "stdout",
       "text": [
        "1.3736491588\n"
       ]
      }
     ],
     "prompt_number": 720
    },
    {
     "cell_type": "code",
     "collapsed": false,
     "input": [],
     "language": "python",
     "metadata": {},
     "outputs": [],
     "prompt_number": 582
    },
    {
     "cell_type": "code",
     "collapsed": false,
     "input": [
      "print ib.shape\n",
      "print irs_t.shape"
     ],
     "language": "python",
     "metadata": {},
     "outputs": [
      {
       "output_type": "stream",
       "stream": "stdout",
       "text": [
        "(1682, 1)\n",
        "(1591, 462)\n"
       ]
      }
     ],
     "prompt_number": 574
    },
    {
     "cell_type": "code",
     "collapsed": false,
     "input": [
      "count = 0\n",
      "\n",
      "for k in range(irs_t.shape[0]):\n",
      "    temp = irs_t[k,:]\n",
      "    pos = temp[temp!=0]\n",
      "    \n",
      "    length = pos.shape[1]\n",
      "    #print length\n",
      "    if length != 0:\n",
      "        count+=1\n",
      "print count"
     ],
     "language": "python",
     "metadata": {},
     "outputs": [
      {
       "output_type": "stream",
       "stream": "stdout",
       "text": [
        "1410\n"
       ]
      }
     ],
     "prompt_number": 632
    },
    {
     "cell_type": "code",
     "collapsed": false,
     "input": [
      "irs_t[1590,:]"
     ],
     "language": "python",
     "metadata": {},
     "outputs": [
      {
       "metadata": {},
       "output_type": "pyout",
       "prompt_number": 644,
       "text": [
        "matrix([[ 0.,  0.,  0.,  0.,  0.,  0.,  0.,  0.,  0.,  0.,  0.,  0.,  0.,\n",
        "          0.,  0.,  0.,  0.,  0.,  0.,  0.,  0.,  0.,  0.,  0.,  0.,  0.,\n",
        "          0.,  0.,  0.,  0.,  0.,  0.,  0.,  0.,  0.,  0.,  0.,  0.,  0.,\n",
        "          0.,  0.,  0.,  0.,  0.,  0.,  0.,  0.,  0.,  0.,  0.,  0.,  0.,\n",
        "          0.,  0.,  0.,  0.,  0.,  0.,  0.,  0.,  0.,  0.,  0.,  0.,  0.,\n",
        "          0.,  0.,  0.,  0.,  0.,  0.,  0.,  0.,  0.,  0.,  0.,  0.,  0.,\n",
        "          0.,  0.,  0.,  0.,  0.,  0.,  0.,  0.,  0.,  0.,  0.,  0.,  0.,\n",
        "          0.,  0.,  0.,  0.,  0.,  0.,  0.,  0.,  0.,  0.,  0.,  0.,  0.,\n",
        "          0.,  0.,  0.,  0.,  0.,  0.,  0.,  0.,  0.,  0.,  0.,  0.,  0.,\n",
        "          0.,  0.,  0.,  0.,  0.,  0.,  0.,  0.,  0.,  0.,  0.,  0.,  0.,\n",
        "          0.,  0.,  0.,  0.,  0.,  0.,  0.,  0.,  0.,  0.,  0.,  0.,  0.,\n",
        "          0.,  0.,  0.,  0.,  0.,  0.,  0.,  0.,  0.,  0.,  0.,  0.,  0.,\n",
        "          0.,  0.,  0.,  0.,  0.,  0.,  0.,  0.,  0.,  0.,  0.,  0.,  0.,\n",
        "          0.,  0.,  0.,  0.,  0.,  0.,  0.,  0.,  0.,  0.,  0.,  0.,  0.,\n",
        "          0.,  0.,  0.,  0.,  0.,  0.,  0.,  0.,  0.,  0.,  0.,  0.,  0.,\n",
        "          0.,  0.,  0.,  0.,  0.,  0.,  0.,  0.,  0.,  0.,  0.,  0.,  0.,\n",
        "          0.,  0.,  0.,  0.,  0.,  0.,  0.,  0.,  0.,  0.,  0.,  0.,  0.,\n",
        "          0.,  0.,  0.,  0.,  0.,  0.,  0.,  0.,  0.,  0.,  0.,  0.,  0.,\n",
        "          0.,  0.,  0.,  0.,  0.,  0.,  0.,  0.,  0.,  0.,  0.,  0.,  0.,\n",
        "          0.,  0.,  0.,  0.,  0.,  0.,  0.,  0.,  0.,  0.,  0.,  0.,  0.,\n",
        "          0.,  0.,  0.,  0.,  0.,  0.,  0.,  0.,  0.,  0.,  0.,  0.,  0.,\n",
        "          0.,  0.,  0.,  0.,  0.,  0.,  0.,  0.,  0.,  0.,  0.,  0.,  0.,\n",
        "          0.,  0.,  0.,  0.,  0.,  0.,  0.,  0.,  0.,  0.,  0.,  0.,  0.,\n",
        "          0.,  0.,  0.,  0.,  0.,  0.,  0.,  0.,  0.,  0.,  0.,  0.,  0.,\n",
        "          0.,  0.,  0.,  0.,  0.,  0.,  0.,  0.,  0.,  0.,  0.,  0.,  0.,\n",
        "          0.,  0.,  0.,  0.,  0.,  0.,  0.,  0.,  0.,  0.,  0.,  0.,  0.,\n",
        "          0.,  0.,  0.,  0.,  0.,  0.,  0.,  0.,  0.,  0.,  0.,  0.,  0.,\n",
        "          0.,  0.,  0.,  0.,  0.,  0.,  0.,  0.,  0.,  0.,  0.,  0.,  0.,\n",
        "          0.,  0.,  0.,  0.,  0.,  0.,  0.,  0.,  0.,  0.,  0.,  0.,  0.,\n",
        "          0.,  0.,  0.,  0.,  0.,  0.,  0.,  0.,  0.,  0.,  0.,  0.,  0.,\n",
        "          0.,  0.,  0.,  0.,  0.,  0.,  0.,  0.,  0.,  0.,  0.,  0.,  0.,\n",
        "          0.,  0.,  0.,  0.,  0.,  0.,  0.,  0.,  0.,  0.,  0.,  0.,  0.,\n",
        "          0.,  0.,  0.,  0.,  0.,  0.,  0.,  0.,  0.,  0.,  0.,  0.,  0.,\n",
        "          0.,  0.,  0.,  0.,  0.,  0.,  0.,  0.,  0.,  0.,  0.,  0.,  0.,\n",
        "          0.,  0.,  4.,  0.,  0.,  0.,  0.,  0.,  0.,  0.,  0.,  0.,  0.,\n",
        "          0.,  0.,  0.,  0.,  0.,  0.,  0.]])"
       ]
      }
     ],
     "prompt_number": 644
    },
    {
     "cell_type": "code",
     "collapsed": false,
     "input": [],
     "language": "python",
     "metadata": {},
     "outputs": []
    }
   ],
   "metadata": {}
  }
 ]
}