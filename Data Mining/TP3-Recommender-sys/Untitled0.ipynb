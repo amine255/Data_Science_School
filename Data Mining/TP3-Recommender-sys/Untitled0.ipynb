{
 "metadata": {
  "name": "Untitled0"
 },
 "nbformat": 3,
 "nbformat_minor": 0,
 "worksheets": [
  {
   "cells": [
    {
     "cell_type": "code",
     "collapsed": false,
     "input": [
      "import numpy as np\n",
      "from scipy.sparse import coo_matrix"
     ],
     "language": "python",
     "metadata": {},
     "outputs": [],
     "prompt_number": 58
    },
    {
     "cell_type": "code",
     "collapsed": false,
     "input": [
      "#u.data  user id | item id | rating | timestamp.\n",
      "\n",
      "u1_base= \"/users/Etu6/3402426/Documents/M2/Data Mining/TP3-recommender-sys/data/ml-100k/u1.base\"\n",
      "u1_test= \"/users/Etu6/3402426/Documents/M2/Data Mining/TP3-recommender-sys/data/ml-100k/u1.test\"\n",
      "\n",
      "data = np.loadtxt(u1_base)\n",
      "data.shape\n",
      "print \"ok\"\n"
     ],
     "language": "python",
     "metadata": {},
     "outputs": [
      {
       "output_type": "stream",
       "stream": "stdout",
       "text": [
        "ok\n"
       ]
      }
     ],
     "prompt_number": 59
    },
    {
     "cell_type": "code",
     "collapsed": false,
     "input": [
      "nb_client = int(max(data[:,0]))\n",
      "nb_item = int(max(data[:,1]))\n",
      "\n",
      "print nb_client\n",
      "print nb_item"
     ],
     "language": "python",
     "metadata": {},
     "outputs": [
      {
       "output_type": "stream",
       "stream": "stdout",
       "text": [
        "943\n",
        "1682\n"
       ]
      }
     ],
     "prompt_number": 103
    },
    {
     "cell_type": "code",
     "collapsed": false,
     "input": [
      "user_id  = np.array([0,3,1,0])\n",
      "item_id  = np.array([0,3,1,2])\n",
      "rating = np.array([4,5,7,9])\n",
      "\n",
      "for i in range(0,100)\n",
      "\n",
      "coo_matrix((data,(row,col)), shape=(4,4)).todense()\n",
      "\n",
      "\n",
      "            \n",
      "            #data[:] the entries of the matrix, in any order\n",
      "            #i[:] the row indices of the matrix entries\n",
      "            #j[:] the column indices of the matrix entries\n",
      "            #coo_matrix((data, (i, j)), [shape=(M, N)])\n"
     ],
     "language": "python",
     "metadata": {},
     "outputs": [
      {
       "output_type": "pyout",
       "prompt_number": 115,
       "text": [
        "matrix([[4, 0, 9, 0],\n",
        "        [0, 7, 0, 0],\n",
        "        [0, 0, 0, 0],\n",
        "        [0, 0, 0, 5]])"
       ]
      }
     ],
     "prompt_number": 115
    },
    {
     "cell_type": "code",
     "collapsed": false,
     "input": [
      "prediction = np.zeros(([nb_client,2]))\n",
      "prediction.shape[0]"
     ],
     "language": "python",
     "metadata": {},
     "outputs": [
      {
       "output_type": "pyout",
       "prompt_number": 92,
       "text": [
        "943"
       ]
      }
     ],
     "prompt_number": 92
    },
    {
     "cell_type": "code",
     "collapsed": false,
     "input": [
      "for i in range(1,prediction.shape[0]):   \n",
      "    moy = 0\n",
      "    A = np.where(data[:,0]==i,1,0)\n",
      "    B =A.nonzero()\n",
      "    #print len(B[0])\n",
      "    for j in range(len(B[0])):\n",
      "        moy +=data[j,2]\n",
      "    prediction[i,0]= i        \n",
      "    prediction[i,1]= moy/len(B[0])"
     ],
     "language": "python",
     "metadata": {},
     "outputs": [],
     "prompt_number": 96
    },
    {
     "cell_type": "code",
     "collapsed": false,
     "input": [
      "prediction"
     ],
     "language": "python",
     "metadata": {},
     "outputs": [
      {
       "output_type": "pyout",
       "prompt_number": 116,
       "text": [
        "array([[   0.        ,    0.        ],\n",
        "       [   1.        ,    3.68148148],\n",
        "       [   2.        ,    3.625     ],\n",
        "       ..., \n",
        "       [ 940.        ,    3.75700935],\n",
        "       [ 941.        ,    3.59090909],\n",
        "       [ 942.        ,    3.59493671]])"
       ]
      }
     ],
     "prompt_number": 116
    },
    {
     "cell_type": "code",
     "collapsed": false,
     "input": [],
     "language": "python",
     "metadata": {},
     "outputs": [],
     "prompt_number": 85
    },
    {
     "cell_type": "code",
     "collapsed": false,
     "input": [],
     "language": "python",
     "metadata": {},
     "outputs": []
    }
   ],
   "metadata": {}
  }
 ]
}