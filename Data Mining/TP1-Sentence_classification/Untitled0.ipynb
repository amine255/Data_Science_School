{
 "metadata": {
  "name": "",
  "signature": "sha256:37cfb484f1643a5a193e7c2499d73f3757f967ec3e7e02d5ca0759df4a7d3707"
 },
 "nbformat": 3,
 "nbformat_minor": 0,
 "worksheets": [
  {
   "cells": [
    {
     "cell_type": "code",
     "collapsed": false,
     "input": [
      "\"\"\"\n",
      "=====================\n",
      "SVM: Weighted samples\n",
      "=====================\n",
      "\n",
      "Plot decision function of a weighted dataset, where the size of points\n",
      "is proportional to its weight.\n",
      "\n",
      "The sample weighting rescales the C parameter, which means that the classifier\n",
      "puts more emphasis on getting these points right. The effect might often be\n",
      "subtle.\n",
      "To emphasis the effect here, we particularly weight outliers, making the\n",
      "deformation of the decision boundary very visible.\n",
      "\"\"\"\n",
      "print(__doc__)\n",
      "\n",
      "import numpy as np\n",
      "import matplotlib.pyplot as plt\n",
      "from sklearn import svm\n",
      "\n",
      "\n",
      "def plot_decision_function(classifier, sample_weight, axis, title):\n",
      "    # plot the decision function\n",
      "    xx, yy = np.meshgrid(np.linspace(-4, 5, 500), np.linspace(-4, 5, 500))\n",
      "\n",
      "    Z = classifier.decision_function(np.c_[xx.ravel(), yy.ravel()])\n",
      "    Z = Z.reshape(xx.shape)\n",
      "\n",
      "    # plot the line, the points, and the nearest vectors to the plane\n",
      "    axis.contourf(xx, yy, Z, alpha=0.75, cmap=plt.cm.bone)\n",
      "    axis.scatter(X[:, 0], X[:, 1], c=Y, s=100 * sample_weight, alpha=0.9,\n",
      "                 cmap=plt.cm.bone)\n",
      "\n",
      "    axis.axis('off')\n",
      "    axis.set_title(title)\n",
      "\n",
      "\n",
      "# we create 20 points\n",
      "np.random.seed(0)\n",
      "X = np.r_[np.random.randn(10, 2) + [1, 1], np.random.randn(10, 2)]\n",
      "Y = [1] * 10 + [-1] * 10\n",
      "sample_weight_last_ten = abs(np.random.randn(len(X)))\n",
      "sample_weight_constant = np.ones(len(X))\n",
      "# and bigger weights to some outliers\n",
      "sample_weight_last_ten[15:] *= 5\n",
      "sample_weight_last_ten[9] *= 15\n",
      "\n",
      "# for reference, first fit without class weights\n",
      "\n",
      "# fit the model\n",
      "clf_weights = svm.SVC()\n",
      "clf_weights.fit(X, Y, sample_weight=sample_weight_last_ten)\n",
      "\n",
      "clf_no_weights = svm.SVC()\n",
      "clf_no_weights.fit(X, Y)\n",
      "\n",
      "fig, axes = plt.subplots(1, 2, figsize=(14, 6))\n",
      "plot_decision_function(clf_no_weights, sample_weight_constant, axes[0],\n",
      "                       \"Constant weights\")\n",
      "plot_decision_function(clf_weights, sample_weight_last_ten, axes[1],\n",
      "                       \"Modified weights\")\n",
      "\n",
      "plt.show()"
     ],
     "language": "python",
     "metadata": {},
     "outputs": [
      {
       "output_type": "stream",
       "stream": "stdout",
       "text": [
        "\n",
        "=====================\n",
        "SVM: Weighted samples\n",
        "=====================\n",
        "\n",
        "Plot decision function of a weighted dataset, where the size of points\n",
        "is proportional to its weight.\n",
        "\n",
        "The sample weighting rescales the C parameter, which means that the classifier\n",
        "puts more emphasis on getting these points right. The effect might often be\n",
        "subtle.\n",
        "To emphasis the effect here, we particularly weight outliers, making the\n",
        "deformation of the decision boundary very visible.\n",
        "\n"
       ]
      }
     ],
     "prompt_number": 1
    },
    {
     "cell_type": "code",
     "collapsed": false,
     "input": [],
     "language": "python",
     "metadata": {},
     "outputs": [
      {
       "metadata": {},
       "output_type": "pyout",
       "prompt_number": 4,
       "text": [
        "(20,)"
       ]
      }
     ],
     "prompt_number": 4
    },
    {
     "cell_type": "code",
     "collapsed": false,
     "input": [],
     "language": "python",
     "metadata": {},
     "outputs": [],
     "prompt_number": 7
    },
    {
     "cell_type": "code",
     "collapsed": false,
     "input": [],
     "language": "python",
     "metadata": {},
     "outputs": []
    }
   ],
   "metadata": {}
  }
 ]
}