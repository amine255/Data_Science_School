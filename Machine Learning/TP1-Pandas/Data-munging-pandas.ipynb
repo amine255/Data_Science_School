{
 "metadata": {
  "name": ""
 },
 "nbformat": 3,
 "nbformat_minor": 0,
 "worksheets": [
  {
   "cells": [
    {
     "cell_type": "markdown",
     "metadata": {},
     "source": [
      "TP1: Prise en main de IPython/NumPy/Pandas\n",
      "=====\n",
      "\n",
      "Dans ce TP, nous allons prendre en main les outils qui nous serviront \u00e0 l'impl\u00e9mentation de mod\u00e8les d'apprentissage statistique (R\u00e9seaux de neurones profonds ou pas, SVM, ...). "
     ]
    },
    {
     "cell_type": "markdown",
     "metadata": {},
     "source": [
      "Exercice 1: Environnement de travail\n",
      "----------"
     ]
    },
    {
     "cell_type": "markdown",
     "metadata": {},
     "source": [
      "L'ex\u00e9cution d'un cellule de code sous IPython Notebook s'effectue \u00e0 l'aide de [Shift]+Entree. Ex\u00e9cutez les cellules suivante."
     ]
    },
    {
     "cell_type": "code",
     "collapsed": true,
     "input": [
      "i=1\n",
      "print(i)"
     ],
     "language": "python",
     "metadata": {},
     "outputs": [
      {
       "output_type": "stream",
       "stream": "stdout",
       "text": [
        "1\n"
       ]
      }
     ],
     "prompt_number": 1
    },
    {
     "cell_type": "code",
     "collapsed": true,
     "input": [
      "import time\n",
      "import sys\n",
      "\n",
      "for i in range(100):\n",
      "    sys.stdout.write(\"%d. \"% i)\n",
      "    sys.stdout.flush()\n",
      "    time.sleep(0.1)"
     ],
     "language": "python",
     "metadata": {},
     "outputs": [
      {
       "output_type": "stream",
       "stream": "stdout",
       "text": [
        "0. "
       ]
      },
      {
       "output_type": "stream",
       "stream": "stdout",
       "text": [
        "1. "
       ]
      },
      {
       "output_type": "stream",
       "stream": "stdout",
       "text": [
        "2. "
       ]
      },
      {
       "output_type": "stream",
       "stream": "stdout",
       "text": [
        "3. "
       ]
      },
      {
       "output_type": "stream",
       "stream": "stdout",
       "text": [
        "4. "
       ]
      },
      {
       "output_type": "stream",
       "stream": "stdout",
       "text": [
        "5. "
       ]
      },
      {
       "output_type": "stream",
       "stream": "stdout",
       "text": [
        "6. "
       ]
      },
      {
       "output_type": "stream",
       "stream": "stdout",
       "text": [
        "7. "
       ]
      },
      {
       "output_type": "stream",
       "stream": "stdout",
       "text": [
        "8. "
       ]
      },
      {
       "output_type": "stream",
       "stream": "stdout",
       "text": [
        "9. "
       ]
      },
      {
       "output_type": "stream",
       "stream": "stdout",
       "text": [
        "10. "
       ]
      },
      {
       "output_type": "stream",
       "stream": "stdout",
       "text": [
        "11. "
       ]
      },
      {
       "output_type": "stream",
       "stream": "stdout",
       "text": [
        "12. "
       ]
      },
      {
       "output_type": "stream",
       "stream": "stdout",
       "text": [
        "13. "
       ]
      },
      {
       "output_type": "stream",
       "stream": "stdout",
       "text": [
        "14. "
       ]
      },
      {
       "output_type": "stream",
       "stream": "stdout",
       "text": [
        "15. "
       ]
      },
      {
       "output_type": "stream",
       "stream": "stdout",
       "text": [
        "16. "
       ]
      },
      {
       "output_type": "stream",
       "stream": "stdout",
       "text": [
        "17. "
       ]
      },
      {
       "output_type": "stream",
       "stream": "stdout",
       "text": [
        "18. "
       ]
      },
      {
       "output_type": "stream",
       "stream": "stdout",
       "text": [
        "19. "
       ]
      },
      {
       "output_type": "stream",
       "stream": "stdout",
       "text": [
        "20. "
       ]
      },
      {
       "output_type": "stream",
       "stream": "stdout",
       "text": [
        "21. "
       ]
      },
      {
       "output_type": "stream",
       "stream": "stdout",
       "text": [
        "22. "
       ]
      },
      {
       "output_type": "stream",
       "stream": "stdout",
       "text": [
        "23. "
       ]
      },
      {
       "output_type": "stream",
       "stream": "stdout",
       "text": [
        "24. "
       ]
      },
      {
       "output_type": "stream",
       "stream": "stdout",
       "text": [
        "25. "
       ]
      },
      {
       "output_type": "stream",
       "stream": "stdout",
       "text": [
        "26. "
       ]
      },
      {
       "output_type": "stream",
       "stream": "stdout",
       "text": [
        "27. "
       ]
      },
      {
       "output_type": "stream",
       "stream": "stdout",
       "text": [
        "28. "
       ]
      },
      {
       "output_type": "stream",
       "stream": "stdout",
       "text": [
        "29. "
       ]
      },
      {
       "output_type": "stream",
       "stream": "stdout",
       "text": [
        "30. "
       ]
      },
      {
       "output_type": "stream",
       "stream": "stdout",
       "text": [
        "31. "
       ]
      },
      {
       "output_type": "stream",
       "stream": "stdout",
       "text": [
        "32. "
       ]
      },
      {
       "output_type": "stream",
       "stream": "stdout",
       "text": [
        "33. "
       ]
      },
      {
       "output_type": "stream",
       "stream": "stdout",
       "text": [
        "34. "
       ]
      },
      {
       "output_type": "stream",
       "stream": "stdout",
       "text": [
        "35. "
       ]
      },
      {
       "output_type": "stream",
       "stream": "stdout",
       "text": [
        "36. "
       ]
      },
      {
       "output_type": "stream",
       "stream": "stdout",
       "text": [
        "37. "
       ]
      },
      {
       "output_type": "stream",
       "stream": "stdout",
       "text": [
        "38. "
       ]
      },
      {
       "output_type": "stream",
       "stream": "stdout",
       "text": [
        "39. "
       ]
      },
      {
       "output_type": "stream",
       "stream": "stdout",
       "text": [
        "40. "
       ]
      },
      {
       "output_type": "stream",
       "stream": "stdout",
       "text": [
        "41. "
       ]
      },
      {
       "output_type": "stream",
       "stream": "stdout",
       "text": [
        "42. "
       ]
      },
      {
       "output_type": "stream",
       "stream": "stdout",
       "text": [
        "43. "
       ]
      },
      {
       "output_type": "stream",
       "stream": "stdout",
       "text": [
        "44. "
       ]
      },
      {
       "output_type": "stream",
       "stream": "stdout",
       "text": [
        "45. "
       ]
      },
      {
       "output_type": "stream",
       "stream": "stdout",
       "text": [
        "46. "
       ]
      },
      {
       "output_type": "stream",
       "stream": "stdout",
       "text": [
        "47. "
       ]
      },
      {
       "output_type": "stream",
       "stream": "stdout",
       "text": [
        "48. "
       ]
      },
      {
       "output_type": "stream",
       "stream": "stdout",
       "text": [
        "49. "
       ]
      },
      {
       "output_type": "stream",
       "stream": "stdout",
       "text": [
        "50. "
       ]
      },
      {
       "output_type": "stream",
       "stream": "stdout",
       "text": [
        "51. "
       ]
      },
      {
       "output_type": "stream",
       "stream": "stdout",
       "text": [
        "52. "
       ]
      },
      {
       "output_type": "stream",
       "stream": "stdout",
       "text": [
        "53. "
       ]
      },
      {
       "output_type": "stream",
       "stream": "stdout",
       "text": [
        "54. "
       ]
      },
      {
       "output_type": "stream",
       "stream": "stdout",
       "text": [
        "55. "
       ]
      },
      {
       "output_type": "stream",
       "stream": "stdout",
       "text": [
        "56. "
       ]
      },
      {
       "output_type": "stream",
       "stream": "stdout",
       "text": [
        "57. "
       ]
      },
      {
       "output_type": "stream",
       "stream": "stdout",
       "text": [
        "58. "
       ]
      },
      {
       "output_type": "stream",
       "stream": "stdout",
       "text": [
        "59. "
       ]
      },
      {
       "output_type": "stream",
       "stream": "stdout",
       "text": [
        "60. "
       ]
      },
      {
       "output_type": "stream",
       "stream": "stdout",
       "text": [
        "61. "
       ]
      },
      {
       "output_type": "stream",
       "stream": "stdout",
       "text": [
        "62. "
       ]
      },
      {
       "output_type": "stream",
       "stream": "stdout",
       "text": [
        "63. "
       ]
      },
      {
       "output_type": "stream",
       "stream": "stdout",
       "text": [
        "64. "
       ]
      },
      {
       "output_type": "stream",
       "stream": "stdout",
       "text": [
        "65. "
       ]
      },
      {
       "output_type": "stream",
       "stream": "stdout",
       "text": [
        "66. "
       ]
      },
      {
       "output_type": "stream",
       "stream": "stdout",
       "text": [
        "67. "
       ]
      },
      {
       "output_type": "stream",
       "stream": "stdout",
       "text": [
        "68. "
       ]
      },
      {
       "output_type": "stream",
       "stream": "stdout",
       "text": [
        "69. "
       ]
      },
      {
       "output_type": "stream",
       "stream": "stdout",
       "text": [
        "70. "
       ]
      },
      {
       "output_type": "stream",
       "stream": "stdout",
       "text": [
        "71. "
       ]
      },
      {
       "output_type": "stream",
       "stream": "stdout",
       "text": [
        "72. "
       ]
      },
      {
       "output_type": "stream",
       "stream": "stdout",
       "text": [
        "73. "
       ]
      },
      {
       "output_type": "stream",
       "stream": "stdout",
       "text": [
        "74. "
       ]
      },
      {
       "output_type": "stream",
       "stream": "stdout",
       "text": [
        "75. "
       ]
      },
      {
       "output_type": "stream",
       "stream": "stdout",
       "text": [
        "76. "
       ]
      },
      {
       "output_type": "stream",
       "stream": "stdout",
       "text": [
        "77. "
       ]
      },
      {
       "output_type": "stream",
       "stream": "stdout",
       "text": [
        "78. "
       ]
      },
      {
       "output_type": "stream",
       "stream": "stdout",
       "text": [
        "79. "
       ]
      },
      {
       "output_type": "stream",
       "stream": "stdout",
       "text": [
        "80. "
       ]
      },
      {
       "output_type": "stream",
       "stream": "stdout",
       "text": [
        "81. "
       ]
      },
      {
       "output_type": "stream",
       "stream": "stdout",
       "text": [
        "82. "
       ]
      },
      {
       "output_type": "stream",
       "stream": "stdout",
       "text": [
        "83. "
       ]
      },
      {
       "output_type": "stream",
       "stream": "stdout",
       "text": [
        "84. "
       ]
      },
      {
       "output_type": "stream",
       "stream": "stdout",
       "text": [
        "85. "
       ]
      },
      {
       "output_type": "stream",
       "stream": "stdout",
       "text": [
        "86. "
       ]
      },
      {
       "output_type": "stream",
       "stream": "stdout",
       "text": [
        "87. "
       ]
      },
      {
       "output_type": "stream",
       "stream": "stdout",
       "text": [
        "88. "
       ]
      },
      {
       "output_type": "stream",
       "stream": "stdout",
       "text": [
        "89. "
       ]
      },
      {
       "output_type": "stream",
       "stream": "stdout",
       "text": [
        "90. "
       ]
      },
      {
       "output_type": "stream",
       "stream": "stdout",
       "text": [
        "91. "
       ]
      },
      {
       "output_type": "stream",
       "stream": "stdout",
       "text": [
        "92. "
       ]
      },
      {
       "output_type": "stream",
       "stream": "stdout",
       "text": [
        "93. "
       ]
      },
      {
       "output_type": "stream",
       "stream": "stdout",
       "text": [
        "94. "
       ]
      },
      {
       "output_type": "stream",
       "stream": "stdout",
       "text": [
        "95. "
       ]
      },
      {
       "output_type": "stream",
       "stream": "stdout",
       "text": [
        "96. "
       ]
      },
      {
       "output_type": "stream",
       "stream": "stdout",
       "text": [
        "97. "
       ]
      },
      {
       "output_type": "stream",
       "stream": "stdout",
       "text": [
        "98. "
       ]
      },
      {
       "output_type": "stream",
       "stream": "stdout",
       "text": [
        "99. "
       ]
      }
     ],
     "prompt_number": 9
    },
    {
     "cell_type": "markdown",
     "metadata": {},
     "source": [
      "La compl\u00e9tion automatique s'obtient \u00e0 l'aide de la touche [TAB]. La compl\u00e9tion permet aussi l'obtention d'une documentation pour chaque fonction. Compl\u00e9tez les lignes suivantes."
     ]
    },
    {
     "cell_type": "code",
     "collapsed": true,
     "input": [
      "import math"
     ],
     "language": "python",
     "metadata": {},
     "outputs": [],
     "prompt_number": 11
    },
    {
     "cell_type": "code",
     "collapsed": true,
     "input": [
      "i=math.exp(2)"
     ],
     "language": "python",
     "metadata": {},
     "outputs": [],
     "prompt_number": 13
    },
    {
     "cell_type": "markdown",
     "metadata": {},
     "source": [
      "Exercice 2: Utilisation de python + numpy\n",
      "=========="
     ]
    },
    {
     "cell_type": "markdown",
     "metadata": {},
     "source": [
      "Nous allons nous familiariser avec python et avec la biblioth\u00e8que numpy. La biblioth\u00e8que numpy est \u00e0 la base des biblioth\u00e8ques de machine learning disponibles aujourd'hui et \u00e0 pour vocation \u00e0 remplacer les impl\u00e9mentations matlab classiquement utilis\u00e9es (mais propri\u00e9taires) - voir cours FDMS. Tout d'abord, il faut importer les bibloth\u00e8ques \"classiques\" de python"
     ]
    },
    {
     "cell_type": "code",
     "collapsed": true,
     "input": [
      "import sys\n",
      "import time\n",
      "import numpy as np"
     ],
     "language": "python",
     "metadata": {},
     "outputs": [],
     "prompt_number": 120
    },
    {
     "cell_type": "markdown",
     "metadata": {},
     "source": [
      "La biblioth\u00e8que numpy tourne autour de la notion de tenseur. Un tenseur est un vecteur multi-dimensionnel. Commencons par la structure 'array' de python:"
     ]
    },
    {
     "cell_type": "code",
     "collapsed": true,
     "input": [
      "data=[1,2.3,4.5,18]\n",
      "data"
     ],
     "language": "python",
     "metadata": {},
     "outputs": [],
     "prompt_number": 52
    },
    {
     "cell_type": "markdown",
     "metadata": {},
     "source": [
      "Cette structure peut \u00eatre transform\u00e9e en tenseur numpy de la fa\u00e7on suivante:"
     ]
    },
    {
     "cell_type": "code",
     "collapsed": true,
     "input": [
      "np_data=np.array(data)\n",
      "np_data"
     ],
     "language": "python",
     "metadata": {},
     "outputs": [],
     "prompt_number": 53
    },
    {
     "cell_type": "markdown",
     "metadata": {},
     "source": [
      "Les op\u00e9rations sur les tableaux sont les suivantes:"
     ]
    },
    {
     "cell_type": "code",
     "collapsed": true,
     "input": [
      "np_data[0]"
     ],
     "language": "python",
     "metadata": {},
     "outputs": [],
     "prompt_number": 57
    },
    {
     "cell_type": "code",
     "collapsed": true,
     "input": [
      "np_data*10"
     ],
     "language": "python",
     "metadata": {},
     "outputs": [],
     "prompt_number": 58
    },
    {
     "cell_type": "code",
     "collapsed": true,
     "input": [
      "for i in np_data:\n",
      "    print(i)"
     ],
     "language": "python",
     "metadata": {},
     "outputs": [],
     "prompt_number": 59
    },
    {
     "cell_type": "code",
     "collapsed": true,
     "input": [
      "len(np_data)"
     ],
     "language": "python",
     "metadata": {},
     "outputs": [],
     "prompt_number": 60
    },
    {
     "cell_type": "code",
     "collapsed": true,
     "input": [
      "np_data+np_data"
     ],
     "language": "python",
     "metadata": {},
     "outputs": [],
     "prompt_number": 13
    },
    {
     "cell_type": "code",
     "collapsed": true,
     "input": [
      "np_data*np_data"
     ],
     "language": "python",
     "metadata": {},
     "outputs": [],
     "prompt_number": 55
    },
    {
     "cell_type": "code",
     "collapsed": true,
     "input": [
      "np_data>5"
     ],
     "language": "python",
     "metadata": {},
     "outputs": []
    },
    {
     "cell_type": "markdown",
     "metadata": {},
     "source": [
      "Attention: les variables correspondent \u00e0 des r\u00e9f\u00e9rences (en m\u00e9moire). Que va donner le code suivant ? "
     ]
    },
    {
     "cell_type": "code",
     "collapsed": true,
     "input": [
      "np_data2=np_data\n",
      "np_data2[0]=12\n",
      "np_data"
     ],
     "language": "python",
     "metadata": {},
     "outputs": [],
     "prompt_number": 14
    },
    {
     "cell_type": "markdown",
     "metadata": {},
     "source": [
      "Les tenseurs de numpy peuvent \u00eatre de plusieurs dimensions:"
     ]
    },
    {
     "cell_type": "code",
     "collapsed": true,
     "input": [
      "data=[[1,2,3],[4,5,6]]\n",
      "np_data=np.array(data)\n",
      "np_data"
     ],
     "language": "python",
     "metadata": {},
     "outputs": [],
     "prompt_number": 20
    },
    {
     "cell_type": "code",
     "collapsed": true,
     "input": [
      "np_data.ndim"
     ],
     "language": "python",
     "metadata": {},
     "outputs": [],
     "prompt_number": 23
    },
    {
     "cell_type": "code",
     "collapsed": true,
     "input": [
      "np_data.shape"
     ],
     "language": "python",
     "metadata": {},
     "outputs": [],
     "prompt_number": 56
    },
    {
     "cell_type": "code",
     "collapsed": true,
     "input": [
      "np.zeros((3,4))"
     ],
     "language": "python",
     "metadata": {},
     "outputs": [],
     "prompt_number": 26
    },
    {
     "cell_type": "code",
     "collapsed": true,
     "input": [
      "np.zeros((3,4,5))"
     ],
     "language": "python",
     "metadata": {},
     "outputs": [],
     "prompt_number": 27
    },
    {
     "cell_type": "code",
     "collapsed": true,
     "input": [
      "np_data=np.arange(10)\n",
      "np_data"
     ],
     "language": "python",
     "metadata": {},
     "outputs": [],
     "prompt_number": 32
    },
    {
     "cell_type": "markdown",
     "metadata": {},
     "source": [
      "L'acc\u00e8s aux donn\u00e9es se fait par l'interm\u00e9diaire d'index."
     ]
    },
    {
     "cell_type": "code",
     "collapsed": true,
     "input": [
      "np_data[5]"
     ],
     "language": "python",
     "metadata": {},
     "outputs": [],
     "prompt_number": 33
    },
    {
     "cell_type": "code",
     "collapsed": true,
     "input": [
      "np_data[5:8]"
     ],
     "language": "python",
     "metadata": {},
     "outputs": [],
     "prompt_number": 34
    },
    {
     "cell_type": "code",
     "collapsed": true,
     "input": [
      "np_data[5:8]=12\n",
      "np_data"
     ],
     "language": "python",
     "metadata": {},
     "outputs": [],
     "prompt_number": 35
    },
    {
     "cell_type": "code",
     "collapsed": true,
     "input": [
      "np_data=np.array([[1,2,3],[4,5,6],[7,8,9]])\n",
      "np_data"
     ],
     "language": "python",
     "metadata": {},
     "outputs": [],
     "prompt_number": 37
    },
    {
     "cell_type": "code",
     "collapsed": true,
     "input": [
      "np_data[1][2]"
     ],
     "language": "python",
     "metadata": {},
     "outputs": [],
     "prompt_number": 38
    },
    {
     "cell_type": "code",
     "collapsed": true,
     "input": [
      "np_data[1]"
     ],
     "language": "python",
     "metadata": {},
     "outputs": [],
     "prompt_number": 39
    },
    {
     "cell_type": "markdown",
     "metadata": {},
     "source": [
      "Et puis quelques truc de plus:"
     ]
    },
    {
     "cell_type": "code",
     "collapsed": true,
     "input": [
      "np_data>5"
     ],
     "language": "python",
     "metadata": {},
     "outputs": [],
     "prompt_number": 40
    },
    {
     "cell_type": "code",
     "collapsed": true,
     "input": [
      "np_data[np_data>5]=0\n",
      "np_data"
     ],
     "language": "python",
     "metadata": {},
     "outputs": [],
     "prompt_number": 43
    },
    {
     "cell_type": "code",
     "collapsed": true,
     "input": [
      "np_data.transpose()"
     ],
     "language": "python",
     "metadata": {},
     "outputs": [],
     "prompt_number": 44
    },
    {
     "cell_type": "markdown",
     "metadata": {},
     "source": [
      "Exercice 3: Pandas\n",
      "------\n",
      "\n",
      "Numpy est tr\u00e8s pratique pour faire des op\u00e9rations num\u00e9riques/matricielles. En ce sens, il sera \u00e0 la source de nos d\u00e9veloppement de mod\u00e8les d'apprentissage. Par contre, pour le traitement de donn\u00e9es (analyse de donn\u00e9es, preprocessing, analyse de r\u00e9sultats), nous utilisserons la librairie Pandas qui est d\u00e9di\u00e9e \u00e0 cet usage. Grosso modo, Pandas est une librarie de manipulation de donn\u00e9es entit\u00e9s-valeurs (de type SQL, CSV, Excel, ...)"
     ]
    },
    {
     "cell_type": "code",
     "collapsed": true,
     "input": [
      "import pandas as pd"
     ],
     "language": "python",
     "metadata": {},
     "outputs": [],
     "prompt_number": 2
    },
    {
     "cell_type": "code",
     "collapsed": false,
     "input": [
      "np_data={\"age\":[16,18,22],\"nom\":[\"Jacques\",\"Jean\",\"Robert\"],\"taille\":[1.8,1.72,1.95]}\n",
      "np_data"
     ],
     "language": "python",
     "metadata": {},
     "outputs": [
      {
       "metadata": {},
       "output_type": "pyout",
       "prompt_number": 3,
       "text": [
        "{'age': [16, 18, 22],\n",
        " 'nom': ['Jacques', 'Jean', 'Robert'],\n",
        " 'taille': [1.8, 1.72, 1.95]}"
       ]
      }
     ],
     "prompt_number": 3
    },
    {
     "cell_type": "markdown",
     "metadata": {},
     "source": [
      "Ici, la manipulation sous forme matricielle n'est pas tr\u00e8s naturelle"
     ]
    },
    {
     "cell_type": "code",
     "collapsed": false,
     "input": [
      "df=pd.DataFrame(np_data)\n",
      "df"
     ],
     "language": "python",
     "metadata": {},
     "outputs": []
    },
    {
     "cell_type": "code",
     "collapsed": true,
     "input": [
      "df.describe()"
     ],
     "language": "python",
     "metadata": {},
     "outputs": []
    },
    {
     "cell_type": "code",
     "collapsed": true,
     "input": [
      "df.nom\n"
     ],
     "language": "python",
     "metadata": {},
     "outputs": []
    },
    {
     "cell_type": "code",
     "collapsed": true,
     "input": [
      "df.age > 16"
     ],
     "language": "python",
     "metadata": {},
     "outputs": []
    },
    {
     "cell_type": "code",
     "collapsed": true,
     "input": [
      "df[df['age']>16]"
     ],
     "language": "python",
     "metadata": {},
     "outputs": [
      {
       "html": [
        "<div style=\"max-height:1000px;max-width:1500px;overflow:auto;\">\n",
        "<table border=\"1\" class=\"dataframe\">\n",
        "  <thead>\n",
        "    <tr style=\"text-align: right;\">\n",
        "      <th></th>\n",
        "      <th>age</th>\n",
        "      <th>nom</th>\n",
        "      <th>taille</th>\n",
        "    </tr>\n",
        "  </thead>\n",
        "  <tbody>\n",
        "    <tr>\n",
        "      <th>1</th>\n",
        "      <td> 18</td>\n",
        "      <td>   Jean</td>\n",
        "      <td> 1.72</td>\n",
        "    </tr>\n",
        "    <tr>\n",
        "      <th>2</th>\n",
        "      <td> 22</td>\n",
        "      <td> Robert</td>\n",
        "      <td> 1.95</td>\n",
        "    </tr>\n",
        "  </tbody>\n",
        "</table>\n",
        "<p>2 rows \u00d7 3 columns</p>\n",
        "</div>"
       ],
       "metadata": {},
       "output_type": "pyout",
       "prompt_number": 19,
       "text": [
        "   age     nom  taille\n",
        "1   18    Jean    1.72\n",
        "2   22  Robert    1.95\n",
        "\n",
        "[2 rows x 3 columns]"
       ]
      }
     ],
     "prompt_number": 19
    },
    {
     "cell_type": "code",
     "collapsed": true,
     "input": [
      "import matplotlib\n",
      "df.plot(x=\"age\",y=\"taille\",kind=\"scatter\")"
     ],
     "language": "python",
     "metadata": {},
     "outputs": [
      {
       "metadata": {},
       "output_type": "pyout",
       "prompt_number": 22,
       "text": [
        "<matplotlib.axes.AxesSubplot at 0x7f6e9adcfc90>"
       ]
      }
     ],
     "prompt_number": 22
    },
    {
     "cell_type": "markdown",
     "metadata": {},
     "source": [
      "Exercice 4: Jouons avec des Donn\u00e9es\n",
      "====\n",
      "Nous allons commencer \u00e0 jouer avec des donn\u00e9es. Ici, nous ne ferons pas d'apprentissage, mais juste de l'analyse statistique assez simple. Le but \u00e9tant de nous familiariser avec Python et avec ce fameux m\u00e9tier de \"Data Scientist\" dont une partie du boulot consiste en de l'exploration et de la compr\u00e9hension des donn\u00e9es."
     ]
    },
    {
     "cell_type": "markdown",
     "metadata": {},
     "source": [
      "Nous allons jouer avec le prix de l'essence dans les stations services de France en 2013 (source : opendata.gouv.fr)."
     ]
    },
    {
     "cell_type": "markdown",
     "metadata": {},
     "source": [
      "Chargons d\u00e9j\u00e0 le fichier CSV. Pour information, ce fichier a \u00e9t\u00e9 cr\u00e9\u00e9e \u00e0 partir d'un fichier XML plus bord\u00e9lique donn\u00e9 par le minist\u00e8re. Le fichier d'origine a \u00e9t\u00e9 pr\u00e9process\u00e9 en PERL (mais d'autres langages pourraient \u00eatre utilis\u00e9s). Cette phase de preprocessing est n\u00e9cessaire mais ne sera pas abord\u00e9e ici."
     ]
    },
    {
     "cell_type": "code",
     "collapsed": false,
     "input": [
      "import numpy as np\n",
      "import pandas as pd\n",
      "import matplotlib.pyplot as plt\n",
      "\n",
      "data=pd.DataFrame.from_csv(path=\"all_2013.csv\",sep=\"\\t\",infer_datetime_format=True,index_col=None)\n",
      "data.tail()"
     ],
     "language": "python",
     "metadata": {},
     "outputs": [
      {
       "html": [
        "<div style=\"max-height:1000px;max-width:1500px;overflow:auto;\">\n",
        "<table border=\"1\" class=\"dataframe\">\n",
        "  <thead>\n",
        "    <tr style=\"text-align: right;\">\n",
        "      <th></th>\n",
        "      <th>Latitude</th>\n",
        "      <th>Longitude</th>\n",
        "      <th>Adresse</th>\n",
        "      <th>Ville</th>\n",
        "      <th>Essence</th>\n",
        "      <th>Jour</th>\n",
        "      <th>Prix</th>\n",
        "    </tr>\n",
        "  </thead>\n",
        "  <tbody>\n",
        "    <tr>\n",
        "      <th>1508953</th>\n",
        "      <td> 48.927703</td>\n",
        "      <td> 2.213463</td>\n",
        "      <td> 151 boulevard gabriel p&amp;#xe9;ri</td>\n",
        "      <td> bezons</td>\n",
        "      <td> SP98</td>\n",
        "      <td> 2013-07-30</td>\n",
        "      <td> 1.326</td>\n",
        "    </tr>\n",
        "    <tr>\n",
        "      <th>1508954</th>\n",
        "      <td> 48.927703</td>\n",
        "      <td> 2.213463</td>\n",
        "      <td> 151 boulevard gabriel p&amp;#xe9;ri</td>\n",
        "      <td> bezons</td>\n",
        "      <td> SP98</td>\n",
        "      <td> 2013-11-08</td>\n",
        "      <td> 1.306</td>\n",
        "    </tr>\n",
        "    <tr>\n",
        "      <th>1508955</th>\n",
        "      <td> 48.927703</td>\n",
        "      <td> 2.213463</td>\n",
        "      <td> 151 boulevard gabriel p&amp;#xe9;ri</td>\n",
        "      <td> bezons</td>\n",
        "      <td> SP98</td>\n",
        "      <td> 2013-10-31</td>\n",
        "      <td> 1.318</td>\n",
        "    </tr>\n",
        "    <tr>\n",
        "      <th>1508956</th>\n",
        "      <td> 48.927703</td>\n",
        "      <td> 2.213463</td>\n",
        "      <td> 151 boulevard gabriel p&amp;#xe9;ri</td>\n",
        "      <td> bezons</td>\n",
        "      <td> SP98</td>\n",
        "      <td> 2013-09-25</td>\n",
        "      <td> 1.342</td>\n",
        "    </tr>\n",
        "    <tr>\n",
        "      <th>1508957</th>\n",
        "      <td> 48.927703</td>\n",
        "      <td> 2.213463</td>\n",
        "      <td> 151 boulevard gabriel p&amp;#xe9;ri</td>\n",
        "      <td> bezons</td>\n",
        "      <td> SP98</td>\n",
        "      <td> 2013-09-19</td>\n",
        "      <td> 1.362</td>\n",
        "    </tr>\n",
        "  </tbody>\n",
        "</table>\n",
        "<p>5 rows \u00d7 7 columns</p>\n",
        "</div>"
       ],
       "metadata": {},
       "output_type": "pyout",
       "prompt_number": 97,
       "text": [
        "          Latitude  Longitude                          Adresse   Ville  \\\n",
        "1508953  48.927703   2.213463  151 boulevard gabriel p&#xe9;ri  bezons   \n",
        "1508954  48.927703   2.213463  151 boulevard gabriel p&#xe9;ri  bezons   \n",
        "1508955  48.927703   2.213463  151 boulevard gabriel p&#xe9;ri  bezons   \n",
        "1508956  48.927703   2.213463  151 boulevard gabriel p&#xe9;ri  bezons   \n",
        "1508957  48.927703   2.213463  151 boulevard gabriel p&#xe9;ri  bezons   \n",
        "\n",
        "        Essence        Jour   Prix  \n",
        "1508953    SP98  2013-07-30  1.326  \n",
        "1508954    SP98  2013-11-08  1.306  \n",
        "1508955    SP98  2013-10-31  1.318  \n",
        "1508956    SP98  2013-09-25  1.342  \n",
        "1508957    SP98  2013-09-19  1.362  \n",
        "\n",
        "[5 rows x 7 columns]"
       ]
      }
     ],
     "prompt_number": 97
    },
    {
     "cell_type": "code",
     "collapsed": false,
     "input": [
      "data.describe()"
     ],
     "language": "python",
     "metadata": {},
     "outputs": [
      {
       "html": [
        "<div style=\"max-height:1000px;max-width:1500px;overflow:auto;\">\n",
        "<table border=\"1\" class=\"dataframe\">\n",
        "  <thead>\n",
        "    <tr style=\"text-align: right;\">\n",
        "      <th></th>\n",
        "      <th>Latitude</th>\n",
        "      <th>Longitude</th>\n",
        "      <th>Prix</th>\n",
        "    </tr>\n",
        "  </thead>\n",
        "  <tbody>\n",
        "    <tr>\n",
        "      <th>count</th>\n",
        "      <td> 1508958.000000</td>\n",
        "      <td> 1508958.000000</td>\n",
        "      <td> 1430396.000000</td>\n",
        "    </tr>\n",
        "    <tr>\n",
        "      <th>mean</th>\n",
        "      <td>      46.948645</td>\n",
        "      <td>       2.529923</td>\n",
        "      <td>       1.348763</td>\n",
        "    </tr>\n",
        "    <tr>\n",
        "      <th>std</th>\n",
        "      <td>       2.361963</td>\n",
        "      <td>       2.956401</td>\n",
        "      <td>       0.054438</td>\n",
        "    </tr>\n",
        "    <tr>\n",
        "      <th>min</th>\n",
        "      <td>     -24.332881</td>\n",
        "      <td>     -68.417871</td>\n",
        "      <td>       0.129000</td>\n",
        "    </tr>\n",
        "    <tr>\n",
        "      <th>25%</th>\n",
        "      <td>      45.191519</td>\n",
        "      <td>       0.605177</td>\n",
        "      <td>       1.309000</td>\n",
        "    </tr>\n",
        "    <tr>\n",
        "      <th>50%</th>\n",
        "      <td>      47.353350</td>\n",
        "      <td>       2.463890</td>\n",
        "      <td>       1.338000</td>\n",
        "    </tr>\n",
        "    <tr>\n",
        "      <th>75%</th>\n",
        "      <td>      48.801010</td>\n",
        "      <td>       4.813090</td>\n",
        "      <td>       1.377000</td>\n",
        "    </tr>\n",
        "    <tr>\n",
        "      <th>max</th>\n",
        "      <td>      52.220760</td>\n",
        "      <td>      61.780735</td>\n",
        "      <td>       2.000000</td>\n",
        "    </tr>\n",
        "  </tbody>\n",
        "</table>\n",
        "<p>8 rows \u00d7 3 columns</p>\n",
        "</div>"
       ],
       "metadata": {},
       "output_type": "pyout",
       "prompt_number": 5,
       "text": [
        "             Latitude       Longitude            Prix\n",
        "count  1508958.000000  1508958.000000  1430396.000000\n",
        "mean        46.948645        2.529923        1.348763\n",
        "std          2.361963        2.956401        0.054438\n",
        "min        -24.332881      -68.417871        0.129000\n",
        "25%         45.191519        0.605177        1.309000\n",
        "50%         47.353350        2.463890        1.338000\n",
        "75%         48.801010        4.813090        1.377000\n",
        "max         52.220760       61.780735        2.000000\n",
        "\n",
        "[8 rows x 3 columns]"
       ]
      }
     ],
     "prompt_number": 5
    },
    {
     "cell_type": "markdown",
     "metadata": {},
     "source": [
      "Les colonnes peuvent \u00eatre s\u00e9lectionn\u00e9es ainsi"
     ]
    },
    {
     "cell_type": "code",
     "collapsed": false,
     "input": [
      "data[\"Ville\"]\n",
      "#ou alors data.Ville"
     ],
     "language": "python",
     "metadata": {},
     "outputs": [],
     "prompt_number": 9
    },
    {
     "cell_type": "markdown",
     "metadata": {},
     "source": [
      "Des op\u00e9rations peuvent \u00eatre effectu\u00e9es sur les colonnes"
     ]
    },
    {
     "cell_type": "code",
     "collapsed": false,
     "input": [
      "max(data.Prix)\n",
      "# ou alors: data.Prix.max()"
     ],
     "language": "python",
     "metadata": {},
     "outputs": [
      {
       "metadata": {},
       "output_type": "pyout",
       "prompt_number": 24,
       "text": [
        "2.0"
       ]
      }
     ],
     "prompt_number": 24
    },
    {
     "cell_type": "markdown",
     "metadata": {},
     "source": [
      "L'index de la valeur max peut \u00eatre trouv\u00e9e ainsi:"
     ]
    },
    {
     "cell_type": "code",
     "collapsed": false,
     "input": [
      "data.Prix.idxmax()"
     ],
     "language": "python",
     "metadata": {},
     "outputs": [
      {
       "metadata": {},
       "output_type": "pyout",
       "prompt_number": 2,
       "text": [
        "607999"
       ]
      }
     ],
     "prompt_number": 2
    },
    {
     "cell_type": "code",
     "collapsed": false,
     "input": [
      "data[\"Prix\"]\n",
      "[data.Prix.idxmax()]"
     ],
     "language": "python",
     "metadata": {},
     "outputs": [
      {
       "metadata": {},
       "output_type": "pyout",
       "prompt_number": 41,
       "text": [
        "[607999]"
       ]
      }
     ],
     "prompt_number": 41
    },
    {
     "cell_type": "markdown",
     "metadata": {},
     "source": [
      "La restriction d'un DataFrame sur certaines collones s'effectue ainsi"
     ]
    },
    {
     "cell_type": "code",
     "collapsed": false,
     "input": [
      "data_sans_adresse=data[[\"Latitude\",\"Longitude\",\"Ville\",\"Essence\",\"Prix\"]]\n",
      "data_sans_adresse.tail()"
     ],
     "language": "python",
     "metadata": {},
     "outputs": [
      {
       "html": [
        "<div style=\"max-height:1000px;max-width:1500px;overflow:auto;\">\n",
        "<table border=\"1\" class=\"dataframe\">\n",
        "  <thead>\n",
        "    <tr style=\"text-align: right;\">\n",
        "      <th></th>\n",
        "      <th>Latitude</th>\n",
        "      <th>Longitude</th>\n",
        "      <th>Ville</th>\n",
        "      <th>Essence</th>\n",
        "      <th>Prix</th>\n",
        "    </tr>\n",
        "  </thead>\n",
        "  <tbody>\n",
        "    <tr>\n",
        "      <th>1508953</th>\n",
        "      <td> 48.927703</td>\n",
        "      <td> 2.213463</td>\n",
        "      <td> bezons</td>\n",
        "      <td> SP98</td>\n",
        "      <td> 1.326</td>\n",
        "    </tr>\n",
        "    <tr>\n",
        "      <th>1508954</th>\n",
        "      <td> 48.927703</td>\n",
        "      <td> 2.213463</td>\n",
        "      <td> bezons</td>\n",
        "      <td> SP98</td>\n",
        "      <td> 1.306</td>\n",
        "    </tr>\n",
        "    <tr>\n",
        "      <th>1508955</th>\n",
        "      <td> 48.927703</td>\n",
        "      <td> 2.213463</td>\n",
        "      <td> bezons</td>\n",
        "      <td> SP98</td>\n",
        "      <td> 1.318</td>\n",
        "    </tr>\n",
        "    <tr>\n",
        "      <th>1508956</th>\n",
        "      <td> 48.927703</td>\n",
        "      <td> 2.213463</td>\n",
        "      <td> bezons</td>\n",
        "      <td> SP98</td>\n",
        "      <td> 1.342</td>\n",
        "    </tr>\n",
        "    <tr>\n",
        "      <th>1508957</th>\n",
        "      <td> 48.927703</td>\n",
        "      <td> 2.213463</td>\n",
        "      <td> bezons</td>\n",
        "      <td> SP98</td>\n",
        "      <td> 1.362</td>\n",
        "    </tr>\n",
        "  </tbody>\n",
        "</table>\n",
        "<p>5 rows \u00d7 5 columns</p>\n",
        "</div>"
       ],
       "metadata": {},
       "output_type": "pyout",
       "prompt_number": 42,
       "text": [
        "          Latitude  Longitude   Ville Essence   Prix\n",
        "1508953  48.927703   2.213463  bezons    SP98  1.326\n",
        "1508954  48.927703   2.213463  bezons    SP98  1.306\n",
        "1508955  48.927703   2.213463  bezons    SP98  1.318\n",
        "1508956  48.927703   2.213463  bezons    SP98  1.342\n",
        "1508957  48.927703   2.213463  bezons    SP98  1.362\n",
        "\n",
        "[5 rows x 5 columns]"
       ]
      }
     ],
     "prompt_number": 42
    },
    {
     "cell_type": "markdown",
     "metadata": {},
     "source": [
      "La fonction groupby permet de grouper les lignes par valeurs \u00e9gales"
     ]
    },
    {
     "cell_type": "code",
     "collapsed": false,
     "input": [
      "data_gp=data.groupby([\"Ville\",\"Jour\",\"Essence\"]).mean()\n",
      "data_gp.tail()"
     ],
     "language": "python",
     "metadata": {},
     "outputs": [
      {
       "html": [
        "<div style=\"max-height:1000px;max-width:1500px;overflow:auto;\">\n",
        "<table border=\"1\" class=\"dataframe\">\n",
        "  <thead>\n",
        "    <tr style=\"text-align: right;\">\n",
        "      <th></th>\n",
        "      <th></th>\n",
        "      <th></th>\n",
        "      <th>Latitude</th>\n",
        "      <th>Longitude</th>\n",
        "      <th>Prix</th>\n",
        "    </tr>\n",
        "    <tr>\n",
        "      <th>Ville</th>\n",
        "      <th>Jour</th>\n",
        "      <th>Essence</th>\n",
        "      <th></th>\n",
        "      <th></th>\n",
        "      <th></th>\n",
        "    </tr>\n",
        "  </thead>\n",
        "  <tbody>\n",
        "    <tr>\n",
        "      <th rowspan=\"5\" valign=\"top\">yzeures-sur-creuse</th>\n",
        "      <th>2013-12-02</th>\n",
        "      <th>SP98</th>\n",
        "      <td> 46.78614</td>\n",
        "      <td> 0.8776</td>\n",
        "      <td> 1.305</td>\n",
        "    </tr>\n",
        "    <tr>\n",
        "      <th>2013-12-05</th>\n",
        "      <th>SP98</th>\n",
        "      <td> 46.78614</td>\n",
        "      <td> 0.8776</td>\n",
        "      <td>   NaN</td>\n",
        "    </tr>\n",
        "    <tr>\n",
        "      <th>2013-12-19</th>\n",
        "      <th>Gazole</th>\n",
        "      <td> 46.78614</td>\n",
        "      <td> 0.8776</td>\n",
        "      <td> 1.299</td>\n",
        "    </tr>\n",
        "    <tr>\n",
        "      <th>2013-12-20</th>\n",
        "      <th>SP98</th>\n",
        "      <td> 46.78614</td>\n",
        "      <td> 0.8776</td>\n",
        "      <td>   NaN</td>\n",
        "    </tr>\n",
        "    <tr>\n",
        "      <th>2013-12-23</th>\n",
        "      <th>SP98</th>\n",
        "      <td> 46.78614</td>\n",
        "      <td> 0.8776</td>\n",
        "      <td>   NaN</td>\n",
        "    </tr>\n",
        "  </tbody>\n",
        "</table>\n",
        "<p>5 rows \u00d7 3 columns</p>\n",
        "</div>"
       ],
       "metadata": {},
       "output_type": "pyout",
       "prompt_number": 43,
       "text": [
        "                                       Latitude  Longitude   Prix\n",
        "Ville              Jour       Essence                            \n",
        "yzeures-sur-creuse 2013-12-02 SP98     46.78614     0.8776  1.305\n",
        "                   2013-12-05 SP98     46.78614     0.8776    NaN\n",
        "                   2013-12-19 Gazole   46.78614     0.8776  1.299\n",
        "                   2013-12-20 SP98     46.78614     0.8776    NaN\n",
        "                   2013-12-23 SP98     46.78614     0.8776    NaN\n",
        "\n",
        "[5 rows x 3 columns]"
       ]
      }
     ],
     "prompt_number": 43
    },
    {
     "cell_type": "markdown",
     "metadata": {},
     "source": [
      "Afin de revenir \u00e0 un DataFrame classique, il convient \"d'\u00e9craser\" l'index hi\u00e9rarchique cr\u00e9\u00e9e:"
     ]
    },
    {
     "cell_type": "code",
     "collapsed": false,
     "input": [
      "data_gp=data.groupby([\"Ville\",\"Jour\",\"Essence\"]).mean().reset_index()\n",
      "data_gp.tail()"
     ],
     "language": "python",
     "metadata": {},
     "outputs": [
      {
       "ename": "NameError",
       "evalue": "name 'data' is not defined",
       "output_type": "pyerr",
       "traceback": [
        "\u001b[0;31m---------------------------------------------------------------------------\u001b[0m\n\u001b[0;31mNameError\u001b[0m                                 Traceback (most recent call last)",
        "\u001b[0;32m<ipython-input-1-b45517436b44>\u001b[0m in \u001b[0;36m<module>\u001b[0;34m()\u001b[0m\n\u001b[1;32m      3\u001b[0m \u001b[0;32mimport\u001b[0m \u001b[0mmatplotlib\u001b[0m\u001b[0;34m.\u001b[0m\u001b[0mpyplot\u001b[0m \u001b[0;32mas\u001b[0m \u001b[0mplt\u001b[0m\u001b[0;34m\u001b[0m\u001b[0m\n\u001b[1;32m      4\u001b[0m \u001b[0;34m\u001b[0m\u001b[0m\n\u001b[0;32m----> 5\u001b[0;31m \u001b[0mdata_gp\u001b[0m\u001b[0;34m=\u001b[0m\u001b[0mdata\u001b[0m\u001b[0;34m.\u001b[0m\u001b[0mgroupby\u001b[0m\u001b[0;34m(\u001b[0m\u001b[0;34m[\u001b[0m\u001b[0;34m\"Ville\"\u001b[0m\u001b[0;34m,\u001b[0m\u001b[0;34m\"Jour\"\u001b[0m\u001b[0;34m,\u001b[0m\u001b[0;34m\"Essence\"\u001b[0m\u001b[0;34m]\u001b[0m\u001b[0;34m)\u001b[0m\u001b[0;34m.\u001b[0m\u001b[0mmean\u001b[0m\u001b[0;34m(\u001b[0m\u001b[0;34m)\u001b[0m\u001b[0;34m.\u001b[0m\u001b[0mreset_index\u001b[0m\u001b[0;34m(\u001b[0m\u001b[0;34m)\u001b[0m\u001b[0;34m\u001b[0m\u001b[0m\n\u001b[0m\u001b[1;32m      6\u001b[0m \u001b[0mdata_gp\u001b[0m\u001b[0;34m.\u001b[0m\u001b[0mtail\u001b[0m\u001b[0;34m(\u001b[0m\u001b[0;34m)\u001b[0m\u001b[0;34m\u001b[0m\u001b[0m\n",
        "\u001b[0;31mNameError\u001b[0m: name 'data' is not defined"
       ]
      }
     ],
     "prompt_number": 1
    },
    {
     "cell_type": "markdown",
     "metadata": {},
     "source": [
      "Exercice: Calculer le prix moyen du Gazole \u00e0 Paris"
     ]
    },
    {
     "cell_type": "code",
     "collapsed": false,
     "input": [
      "data_paris = data[data.Ville == \"paris\"]\n",
      "data_paris_gazole = data_paris[data_paris.Essence == \"Gazole\"]\n",
      "data_paris_gazole\n",
      "\n",
      "print \"le prix moyen du Gazole \u00e0 Paris est de: \",data_paris_gazole.Prix.mean(),\"\u20ac\""
     ],
     "language": "python",
     "metadata": {},
     "outputs": [
      {
       "output_type": "stream",
       "stream": "stdout",
       "text": [
        "le prix moyen du Gazole \u00e0 Paris est de:  1.4341743428 \u20ac\n"
       ]
      }
     ],
     "prompt_number": 5
    },
    {
     "cell_type": "markdown",
     "metadata": {},
     "source": [
      "Exercice: Calculer le prix max des diff\u00e9rentes essence en France ainsi que leurs positions"
     ]
    },
    {
     "cell_type": "code",
     "collapsed": false,
     "input": [
      "SP95 = data[data.Essence ==\"SP95\"]\n",
      "SP98 = data[data.Essence ==\"SP98\"]\n",
      "Gazole = data[data.Essence ==\"Gazole\"]\n",
      "\n",
      "SP95.Prix.idxmax()\n",
      "SP98.Prix.idxmax()\n",
      "Gazole.Prix.idxmax()\n",
      "\n",
      "print \"Le prix max du SP95 est de :\",SP95.Prix.max(),\"\u20ac, et se situe \u00e0 la ligne\", SP95.Prix.idxmax()\n",
      "print \"Le prix max du SP98 est de :\",SP98.Prix.max(),\"\u20ac, et se situe \u00e0 la ligne\", SP98.Prix.idxmax()\n",
      "print \"Le prix max du Gazole est de :\",Gazole.Prix.max(),\"\u20ac, et se situe \u00e0 la ligne\", Gazole.Prix.idxmax()\n"
     ],
     "language": "python",
     "metadata": {},
     "outputs": [
      {
       "output_type": "stream",
       "stream": "stdout",
       "text": [
        "Le prix max du SP95 est de : 2.0 \u20ac, et se situe \u00e0 la ligne 608019\n",
        "Le prix max du SP98 est de : 1.999 \u20ac, et se situe \u00e0 la ligne 545780\n",
        "Le prix max du Gazole est de : 2.0 \u20ac, et se situe \u00e0 la ligne 607999\n"
       ]
      },
      {
       "metadata": {},
       "output_type": "pyout",
       "prompt_number": 116,
       "text": [
        "(444942,)"
       ]
      }
     ],
     "prompt_number": 116
    },
    {
     "cell_type": "code",
     "collapsed": false,
     "input": [
      "values=data[\"Essence\"].values\n",
      "values"
     ],
     "language": "python",
     "metadata": {},
     "outputs": [
      {
       "metadata": {},
       "output_type": "pyout",
       "prompt_number": 122,
       "text": [
        "array(['Gazole', 'Gazole', 'Gazole', ..., 'SP98', 'SP98', 'SP98'], dtype=object)"
       ]
      }
     ],
     "prompt_number": 122
    },
    {
     "cell_type": "code",
     "collapsed": false,
     "input": [
      "np.unique(values)"
     ],
     "language": "python",
     "metadata": {},
     "outputs": [
      {
       "metadata": {},
       "output_type": "pyout",
       "prompt_number": 127,
       "text": [
        "array(['Gazole', 'SP95', 'SP98'], dtype=object)"
       ]
      }
     ],
     "prompt_number": 127
    },
    {
     "cell_type": "code",
     "collapsed": false,
     "input": [
      "for k in np.unique(values):\n",
      "    print k"
     ],
     "language": "python",
     "metadata": {},
     "outputs": [
      {
       "output_type": "stream",
       "stream": "stdout",
       "text": [
        "Gazole\n",
        "SP95\n",
        "SP98\n"
       ]
      }
     ],
     "prompt_number": 187
    },
    {
     "cell_type": "markdown",
     "metadata": {},
     "source": [
      "Exercice: Trouver le jour ou le prix moyen de l'essence en France a \u00e9t\u00e9 le plus cher."
     ]
    },
    {
     "cell_type": "code",
     "collapsed": false,
     "input": [
      "Day_stack = np.unique(data.Jour.values)\n"
     ],
     "language": "python",
     "metadata": {},
     "outputs": [
      {
       "metadata": {},
       "output_type": "pyout",
       "prompt_number": 184,
       "text": [
        "365"
       ]
      }
     ],
     "prompt_number": 184
    },
    {
     "cell_type": "code",
     "collapsed": false,
     "input": [
      "max = 0\n",
      "index = 0\n",
      "for k in range(0,len(Day_stack)):\n",
      "    Day_mean = data.Prix[data.Jour == Day_stack[k]].mean()\n",
      "    if Day_mean > max:\n",
      "        max = Day_mean\n",
      "        index = k\n",
      "        print max\n",
      "        \n",
      "print \"finish\"\n",
      "print \"Le jour ou le prix moyen de l'essence en France a \u00e9t\u00e9 le plus cher est le :\", Day_stack[index],\", avec un Prix moyen de :\", max,\"\u20ac\" \n"
     ],
     "language": "python",
     "metadata": {},
     "outputs": [
      {
       "output_type": "stream",
       "stream": "stdout",
       "text": [
        "1.36562962963\n",
        "1.36957460156"
       ]
      },
      {
       "output_type": "stream",
       "stream": "stdout",
       "text": [
        "\n",
        "1.37429446064"
       ]
      },
      {
       "output_type": "stream",
       "stream": "stdout",
       "text": [
        "\n",
        "1.3751155404"
       ]
      },
      {
       "output_type": "stream",
       "stream": "stdout",
       "text": [
        "\n",
        "1.38190387823"
       ]
      },
      {
       "output_type": "stream",
       "stream": "stdout",
       "text": [
        "\n",
        "1.39065355206"
       ]
      },
      {
       "output_type": "stream",
       "stream": "stdout",
       "text": [
        "\n",
        "1.39253563502"
       ]
      },
      {
       "output_type": "stream",
       "stream": "stdout",
       "text": [
        "\n",
        "1.39516403785"
       ]
      },
      {
       "output_type": "stream",
       "stream": "stdout",
       "text": [
        "\n",
        "1.3973538961"
       ]
      },
      {
       "output_type": "stream",
       "stream": "stdout",
       "text": [
        "\n",
        "1.40199587947"
       ]
      },
      {
       "output_type": "stream",
       "stream": "stdout",
       "text": [
        "\n",
        "1.40349050475"
       ]
      },
      {
       "output_type": "stream",
       "stream": "stdout",
       "text": [
        "\n",
        "1.40573587571"
       ]
      },
      {
       "output_type": "stream",
       "stream": "stdout",
       "text": [
        "\n",
        "1.40661489899"
       ]
      },
      {
       "output_type": "stream",
       "stream": "stdout",
       "text": [
        "\n",
        "1.41994959541"
       ]
      },
      {
       "output_type": "stream",
       "stream": "stdout",
       "text": [
        "\n",
        "1.42320341173"
       ]
      },
      {
       "output_type": "stream",
       "stream": "stdout",
       "text": [
        "\n",
        "finish"
       ]
      },
      {
       "output_type": "stream",
       "stream": "stdout",
       "text": [
        "\n",
        "Le jour ou le prix moyen de l'essence en France a \u00e9t\u00e9 le plus cher est le : 2013-02-19 , avec un Prix moyen de : 1.42320341173 \u20ac\n"
       ]
      }
     ],
     "prompt_number": 215
    },
    {
     "cell_type": "code",
     "collapsed": false,
     "input": [
      "data_per_day=data.groupby([\"Jour\"]).mean().reset_index()\n",
      "index_max = data_per_day.Prix.idxmax()\n",
      "Value_max = data_per_day.Prix.iloc[49]\n",
      "Jour_max =  data_per_day.Jour.iloc[49]\n",
      "\n",
      "print \"Le jour ou le prix moyen de l'essence en France a \u00e9t\u00e9 le plus cher est le :\", Jour_max,\", avec un Prix moyen de :\", Value_max,\"\u20ac\" \n"
     ],
     "language": "python",
     "metadata": {},
     "outputs": [
      {
       "output_type": "stream",
       "stream": "stdout",
       "text": [
        "Le jour ou le prix moyen de l'essence en France a \u00e9t\u00e9 le plus cher est le : 2013-02-19 , avec un Prix moyen de : 1.42320341173 \u20ac\n"
       ]
      }
     ],
     "prompt_number": 5
    },
    {
     "cell_type": "markdown",
     "metadata": {},
     "source": [
      "Pour dessiner, un DataFrame contient la m\u00e9thode plot (voir documentation: http://pandas.pydata.org/pandas-docs/stable/visualization.html)"
     ]
    },
    {
     "cell_type": "code",
     "collapsed": false,
     "input": [
      "import matplotlib.pyplot as plt\n",
      "\n",
      "data_per_day=data.groupby([\"Jour\"]).mean().reset_index()\n",
      "data_per_day.plot(x=\"Jour\",y=\"Prix\",kind=\"line\",label=\"All\")\n",
      "plt.legend(loc=\"best\")\n",
      "plt.ylabel('Prix moyen de l''Essence en euros')\n",
      "plt.show()"
     ],
     "language": "python",
     "metadata": {},
     "outputs": [],
     "prompt_number": 28
    },
    {
     "cell_type": "markdown",
     "metadata": {},
     "source": [
      "On pourra comparer cette courbe \u00e0 la courbe des prix du p\u00e9trole sur la m\u00eame p\u00e9riode"
     ]
    },
    {
     "cell_type": "code",
     "collapsed": false,
     "input": [
      "import pandas.io.data as web\n",
      "\n",
      "\n",
      "oil_data = {}\n",
      "oil_data= web.get_data_yahoo(\"OIL\", '1/1/2013', '1/1/2014')\n",
      "oil_data[\"Jour\"]=oil_data.index\n",
      "#oil_data\n",
      "oil_data=pd.DataFrame(oil_data)\n",
      "oil_data.tail()\n",
      "\n",
      "oil_data.plot(x=\"Jour\",y=\"Open\")\n",
      "plt.legend(loc=\"best\")\n",
      "plt.show()"
     ],
     "language": "python",
     "metadata": {},
     "outputs": [],
     "prompt_number": 27
    },
    {
     "cell_type": "markdown",
     "metadata": {},
     "source": [
      "Exercice: Dessiner le prix moyen des diff\u00e9rentes essences"
     ]
    },
    {
     "cell_type": "code",
     "collapsed": false,
     "input": [
      "plt.close(\"all\")\n",
      "\n",
      "plt.figure(1)\n",
      "plt.title(\"le prix moyen des differentes essences\")\n",
      "\n",
      "onlySP95 = data[data.Essence == \"SP95\"]\n",
      "Mean_SP95 = onlySP95.groupby([\"Jour\"]).mean().reset_index()\n",
      "Mean_SP95.plot(x=\"Jour\",y=\"Prix\",label = \"SP95\")\n",
      "\n",
      "onlySP98 = data[data.Essence == \"SP98\"]\n",
      "Mean_SP98 = onlySP98.groupby([\"Jour\"]).mean().reset_index()\n",
      "Mean_SP98.plot(y=\"Prix\",label = \"SP98\")\n",
      "\n",
      "\n",
      "onlyGazole = data[data.Essence == \"Gazole\"]\n",
      "Mean_Gazole = onlyGazole.groupby([\"Jour\"]).mean().reset_index()\n",
      "Mean_Gazole.plot(x=\"Jour\",y=\"Prix\",label = \"Gazole\")\n",
      "plt.legend(loc=\"best\")\n",
      "plt.show()\n",
      "\n"
     ],
     "language": "python",
     "metadata": {},
     "outputs": [],
     "prompt_number": 82
    },
    {
     "cell_type": "markdown",
     "metadata": {},
     "source": [
      "Exercice: Dessiner le prix moyen de l'essence \u00e0 Paris, Limoges et Bordeaux"
     ]
    },
    {
     "cell_type": "code",
     "collapsed": false,
     "input": [
      "moy_Paris = data[data.Ville==\"paris\"].groupby(\"Jour\").mean().reset_index()\n",
      "moy_Limoges= data[data.Ville==\"limoges\"].groupby(\"Jour\").mean().reset_index()\n",
      "moy_Bordeaux= data[data.Ville==\"bordeaux\"].groupby(\"Jour\").mean().reset_index()\n",
      "\n",
      "plt.close('all')\n",
      "plt.figure(1)\n",
      "\n",
      "moy_Paris.plot(x='Jour',y='Prix',label ='Paris')\n",
      "               \n",
      "moy_Limoges.plot(x='Jour',y='Prix',label ='Limoges')\n",
      "               \n",
      "moy_Bordeaux.plot(x='Jour',y='Prix',label ='Bordeaux')\n",
      "\n",
      "plt.legend()\n",
      "                  \n",
      "plt.show()"
     ],
     "language": "python",
     "metadata": {},
     "outputs": [],
     "prompt_number": 3
    },
    {
     "cell_type": "markdown",
     "metadata": {},
     "source": [
      "Exercice: Calculer le prix moyen de des diff\u00e9rentes essences sur l'autoroute. Pour cela il faut utiliser l'op\u00e9rateur \"contains\": voir http://stackoverflow.com/questions/11350770/pandas-dataframe-select-by-partial-string"
     ]
    },
    {
     "cell_type": "code",
     "collapsed": false,
     "input": [
      "A = data[data.Adresse.str.contains('autoroute')]\n",
      "\n",
      "\n",
      "print \"les prix moyens des essences uniquement sur autoroute\"\n",
      "A.groupby('Essence').mean().reset_index()"
     ],
     "language": "python",
     "metadata": {},
     "outputs": [
      {
       "output_type": "stream",
       "stream": "stdout",
       "text": [
        "les prix moyens des essences uniquement sur autoroute\n"
       ]
      },
      {
       "html": [
        "<div style=\"max-height:1000px;max-width:1500px;overflow:auto;\">\n",
        "<table border=\"1\" class=\"dataframe\">\n",
        "  <thead>\n",
        "    <tr style=\"text-align: right;\">\n",
        "      <th></th>\n",
        "      <th>Essence</th>\n",
        "      <th>Latitude</th>\n",
        "      <th>Longitude</th>\n",
        "      <th>Prix</th>\n",
        "    </tr>\n",
        "  </thead>\n",
        "  <tbody>\n",
        "    <tr>\n",
        "      <th>0</th>\n",
        "      <td> Gazole</td>\n",
        "      <td> 46.859899</td>\n",
        "      <td> 3.192527</td>\n",
        "      <td> 1.467576</td>\n",
        "    </tr>\n",
        "    <tr>\n",
        "      <th>1</th>\n",
        "      <td>   SP95</td>\n",
        "      <td> 47.767399</td>\n",
        "      <td>-0.371615</td>\n",
        "      <td> 1.453403</td>\n",
        "    </tr>\n",
        "    <tr>\n",
        "      <th>2</th>\n",
        "      <td>   SP98</td>\n",
        "      <td> 46.872102</td>\n",
        "      <td> 3.136967</td>\n",
        "      <td> 1.457607</td>\n",
        "    </tr>\n",
        "  </tbody>\n",
        "</table>\n",
        "<p>3 rows \u00d7 4 columns</p>\n",
        "</div>"
       ],
       "metadata": {},
       "output_type": "pyout",
       "prompt_number": 15,
       "text": [
        "  Essence   Latitude  Longitude      Prix\n",
        "0  Gazole  46.859899   3.192527  1.467576\n",
        "1    SP95  47.767399  -0.371615  1.453403\n",
        "2    SP98  46.872102   3.136967  1.457607\n",
        "\n",
        "[3 rows x 4 columns]"
       ]
      }
     ],
     "prompt_number": 15
    },
    {
     "cell_type": "markdown",
     "metadata": {},
     "source": [
      "Exercice: La n\u00e9gation d'une colonne bool\u00e9enne s'obtient \u00e0 travers l'utilisation de np.invert(....). Calculer le prix moyen des diff\u00e9rentes essences PAS sur les autoroutes"
     ]
    },
    {
     "cell_type": "code",
     "collapsed": false,
     "input": [
      "A = data[np.invert(data.Adresse.str.contains('autoroute'))]\n",
      "\n",
      "\n",
      "print \"les prix moyens des essences qui ne sont PAS sur autoroute\"\n",
      "A.groupby('Essence').mean().reset_index()"
     ],
     "language": "python",
     "metadata": {},
     "outputs": [
      {
       "output_type": "stream",
       "stream": "stdout",
       "text": [
        "les prix moyens des essences qui ne sont PAS sur autoroute\n"
       ]
      },
      {
       "html": [
        "<div style=\"max-height:1000px;max-width:1500px;overflow:auto;\">\n",
        "<table border=\"1\" class=\"dataframe\">\n",
        "  <thead>\n",
        "    <tr style=\"text-align: right;\">\n",
        "      <th></th>\n",
        "      <th>Essence</th>\n",
        "      <th>Latitude</th>\n",
        "      <th>Longitude</th>\n",
        "      <th>Prix</th>\n",
        "    </tr>\n",
        "  </thead>\n",
        "  <tbody>\n",
        "    <tr>\n",
        "      <th>0</th>\n",
        "      <td> Gazole</td>\n",
        "      <td> 46.965397</td>\n",
        "      <td> 2.535202</td>\n",
        "      <td> 1.351675</td>\n",
        "    </tr>\n",
        "    <tr>\n",
        "      <th>1</th>\n",
        "      <td>   SP95</td>\n",
        "      <td> 46.827753</td>\n",
        "      <td> 2.449413</td>\n",
        "      <td> 1.344664</td>\n",
        "    </tr>\n",
        "    <tr>\n",
        "      <th>2</th>\n",
        "      <td>   SP98</td>\n",
        "      <td> 47.099003</td>\n",
        "      <td> 2.590193</td>\n",
        "      <td> 1.334838</td>\n",
        "    </tr>\n",
        "  </tbody>\n",
        "</table>\n",
        "<p>3 rows \u00d7 4 columns</p>\n",
        "</div>"
       ],
       "metadata": {},
       "output_type": "pyout",
       "prompt_number": 20,
       "text": [
        "  Essence   Latitude  Longitude      Prix\n",
        "0  Gazole  46.965397   2.535202  1.351675\n",
        "1    SP95  46.827753   2.449413  1.344664\n",
        "2    SP98  47.099003   2.590193  1.334838\n",
        "\n",
        "[3 rows x 4 columns]"
       ]
      }
     ],
     "prompt_number": 20
    },
    {
     "cell_type": "markdown",
     "metadata": {},
     "source": [
      "Exercice: Maintenant, nous allons conserver uniquement le prix du gazole \u00e0 Paris, et le moyenner sur toute l'ann\u00e9e par station service"
     ]
    },
    {
     "cell_type": "code",
     "collapsed": true,
     "input": [
      "onlyParis = data[data.Ville == \"paris\"]\n",
      "onlyParis_Gazole = onlyParis[onlyParis.Essence == \"Gazole\"]\n",
      "data_gazole_paris = onlyParis_Gazole.groupby(['Adresse']).mean().reset_index()\n"
     ],
     "language": "python",
     "metadata": {},
     "outputs": [],
     "prompt_number": 40
    },
    {
     "cell_type": "markdown",
     "metadata": {},
     "source": [
      "On peut utiliser diff\u00e9rentes commandes de matplotlib pour faire des dessins plus compliqu\u00e9s:"
     ]
    },
    {
     "cell_type": "code",
     "collapsed": false,
     "input": [
      "plt.close('all')\n",
      "\n",
      "plt.scatter(data_gazole_paris.Longitude,data_gazole_paris.Latitude,s=(data_gazole_paris[\"Prix\"]-1.339)*1000)\n",
      "plt.show()"
     ],
     "language": "python",
     "metadata": {},
     "outputs": [],
     "prompt_number": 140
    },
    {
     "cell_type": "markdown",
     "metadata": {},
     "source": [
      "Exercice: Maintenant, nous allons distinguer les stations dont le prix du gazole est sup\u00e9rieur \u00e0 la moyenne et celle dont le prix est inf\u00e9rieur. Pour cela, il faut:\n",
      "(i) Calculer le prix moyen (ii) Ajouter une colonne permettant de savoir si le prix est sup\u00e9rieur ou inf\u00e9rieur au prix moyen (iii) Dessiner -- voir : http://matplotlib.org/api/pyplot_api.html"
     ]
    },
    {
     "cell_type": "code",
     "collapsed": false,
     "input": [
      "plt.close('all')\n",
      "\n",
      "mean_price = data_gazole_paris.Prix.mean()\n",
      "\n",
      "\n",
      "plt.figure()\n",
      "data_gazole_paris['sup_moy']= data_gazole_paris.Prix > mean_price\n",
      "plt.scatter(data_gazole_paris.Longitude[data_gazole_paris['sup_moy'] == True],data_gazole_paris.Latitude[data_gazole_paris['sup_moy'] == True],label=\"Superieur a la moyenne\",marker='x',c='r')\n",
      "plt.scatter(data_gazole_paris.Longitude[data_gazole_paris['sup_moy'] == False],data_gazole_paris.Latitude[data_gazole_paris['sup_moy'] == False],label=\"inferieur a la moyenne\",marker='o',c='g')\n",
      "plt.legend()\n",
      "\n",
      "plt.show()\n",
      "print \"Prix moyen du gazole \u00e0 paris\", mean_price,'\u20ac'\n"
     ],
     "language": "python",
     "metadata": {},
     "outputs": [
      {
       "output_type": "stream",
       "stream": "stdout",
       "text": [
        "Prix moyen du gazole \u00e0 paris 1.47518501978 \u20ac\n"
       ]
      }
     ],
     "prompt_number": 142
    },
    {
     "cell_type": "code",
     "collapsed": false,
     "input": [],
     "language": "python",
     "metadata": {},
     "outputs": [],
     "prompt_number": 80
    },
    {
     "cell_type": "markdown",
     "metadata": {},
     "source": [
      "Les corr\u00e9lations entre colonnes se calculent ainsi:"
     ]
    },
    {
     "cell_type": "code",
     "collapsed": false,
     "input": [
      "data_gazole_paris.corr()"
     ],
     "language": "python",
     "metadata": {},
     "outputs": [
      {
       "html": [
        "<div style=\"max-height:1000px;max-width:1500px;overflow:auto;\">\n",
        "<table border=\"1\" class=\"dataframe\">\n",
        "  <thead>\n",
        "    <tr style=\"text-align: right;\">\n",
        "      <th></th>\n",
        "      <th>Latitude</th>\n",
        "      <th>Longitude</th>\n",
        "      <th>Prix</th>\n",
        "      <th>sup_moy</th>\n",
        "    </tr>\n",
        "  </thead>\n",
        "  <tbody>\n",
        "    <tr>\n",
        "      <th>Latitude</th>\n",
        "      <td> 1.000000</td>\n",
        "      <td> 0.170406</td>\n",
        "      <td>-0.034313</td>\n",
        "      <td>-0.043957</td>\n",
        "    </tr>\n",
        "    <tr>\n",
        "      <th>Longitude</th>\n",
        "      <td> 0.170406</td>\n",
        "      <td> 1.000000</td>\n",
        "      <td>-0.051280</td>\n",
        "      <td>-0.236091</td>\n",
        "    </tr>\n",
        "    <tr>\n",
        "      <th>Prix</th>\n",
        "      <td>-0.034313</td>\n",
        "      <td>-0.051280</td>\n",
        "      <td> 1.000000</td>\n",
        "      <td> 0.636609</td>\n",
        "    </tr>\n",
        "    <tr>\n",
        "      <th>sup_moy</th>\n",
        "      <td>-0.043957</td>\n",
        "      <td>-0.236091</td>\n",
        "      <td> 0.636609</td>\n",
        "      <td> 1.000000</td>\n",
        "    </tr>\n",
        "  </tbody>\n",
        "</table>\n",
        "<p>4 rows \u00d7 4 columns</p>\n",
        "</div>"
       ],
       "metadata": {},
       "output_type": "pyout",
       "prompt_number": 66,
       "text": [
        "           Latitude  Longitude      Prix   sup_moy\n",
        "Latitude   1.000000   0.170406 -0.034313 -0.043957\n",
        "Longitude  0.170406   1.000000 -0.051280 -0.236091\n",
        "Prix      -0.034313  -0.051280  1.000000  0.636609\n",
        "sup_moy   -0.043957  -0.236091  0.636609  1.000000\n",
        "\n",
        "[4 rows x 4 columns]"
       ]
      }
     ],
     "prompt_number": 66
    },
    {
     "cell_type": "markdown",
     "metadata": {},
     "source": [
      "Exercice: Qu'en pensez vous ? Dessinez le prix moyen en fonction de la lattiude et en fonction de la longitude.... Ou faut-il mieux faire son plein d'essence ? "
     ]
    },
    {
     "cell_type": "code",
     "collapsed": false,
     "input": [
      "plt.close('all')\n",
      "\n",
      "A  = data[data.Latitude > 30]\n",
      "mean_price_france = A.Prix.mean()\n",
      "\n",
      "A = A.groupby('Ville').mean().reset_index()\n",
      "\n",
      "A['sup_moy']= A.Prix > mean_price_france\n",
      "\n",
      "plt.scatter(A.Longitude[A['sup_moy'] == True],A.Latitude[A['sup_moy'] == True],label=\"Superieur a la moyenne\",c='r',marker='x')\n",
      "plt.scatter(A.Longitude[A['sup_moy'] == False],A.Latitude[A['sup_moy'] == False],label=\"inferieur a la moyenne\",c='g',marker='o')\n",
      "\n",
      "plt.legend()\n",
      "plt.show()\n"
     ],
     "language": "python",
     "metadata": {},
     "outputs": [],
     "prompt_number": 153
    },
    {
     "cell_type": "markdown",
     "metadata": {},
     "source": [
      "Exercice 5: Rappel d'objets en Python\n",
      "====="
     ]
    },
    {
     "cell_type": "code",
     "collapsed": true,
     "input": [
      "class Machin:\n",
      "    def __init__(self):\n",
      "        self.x=5\n",
      "\n",
      "    def getX(self):\n",
      "        return self.x\n",
      "        \n",
      "    def setX(self,value):\n",
      "        self.x=value\n",
      "        \n",
      "m=Machin()\n",
      "m.setX(12)\n",
      "m.getX()"
     ],
     "language": "python",
     "metadata": {},
     "outputs": [
      {
       "metadata": {},
       "output_type": "pyout",
       "prompt_number": 67,
       "text": [
        "12"
       ]
      }
     ],
     "prompt_number": 67
    },
    {
     "cell_type": "markdown",
     "metadata": {},
     "source": [
      "H\u00e9ritage"
     ]
    },
    {
     "cell_type": "code",
     "collapsed": true,
     "input": [
      "class Truc(Machin):\n",
      "    def __init__(self):\n",
      "        Machin.__init__(self)\n",
      "        self.y=1\n",
      "        \n",
      "    def getY(self):\n",
      "        return self.y\n",
      "        \n",
      "    def setY(self,value):\n",
      "        self.y=value\n",
      "\n",
      "t=Truc()\n",
      "t.setY(14)\n",
      "print(\"%d %d\"% (t.getX(),t.getY()))"
     ],
     "language": "python",
     "metadata": {},
     "outputs": [
      {
       "output_type": "stream",
       "stream": "stdout",
       "text": [
        "5 14\n"
       ]
      }
     ],
     "prompt_number": 68
    },
    {
     "cell_type": "markdown",
     "metadata": {},
     "source": [
      "D\u00e9finir les classes Personne, Etudiants et Enseignants"
     ]
    }
   ],
   "metadata": {}
  }
 ]
}