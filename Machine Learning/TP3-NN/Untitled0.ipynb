{
 "metadata": {
  "name": "",
  "signature": "sha256:0372505db91f8385b373ffce7e90eb214580f3b109b30b0c8d30d9f2dcabe990"
 },
 "nbformat": 3,
 "nbformat_minor": 0,
 "worksheets": []
}