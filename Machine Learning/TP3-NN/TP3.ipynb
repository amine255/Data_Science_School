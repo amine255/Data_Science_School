{
 "metadata": {
<<<<<<< HEAD
  "name": "TP3"
=======
  "name": "TP3",
  "signature": "sha256:6ba30c6ecfa08cb658c7e6c4fdcb2c071e8fb38f96af527ba45d188c50fcdf8d"
>>>>>>> origin/master
 },
 "nbformat": 3,
 "nbformat_minor": 0,
 "worksheets": [
  {
   "cells": [
    {
     "cell_type": "markdown",
     "metadata": {},
     "source": [
      "Impl\u00e9mentation des Losses\n",
      "======\n",
      "\n",
      "Nous allons nous int\u00e9resser \u00e0 l'impl\u00e9mentation \"g\u00e9n\u00e9rique\" d'un co\u00fbt (loss) de pr\u00e9diction. "
     ]
    },
    {
     "cell_type": "code",
     "collapsed": false,
     "input": [
      "import numpy as np\n",
      "\n",
      "y_pred = np.random.randint(-3,3,(10,1))\n",
      "y =np.random.randint(-1,1,(10,1))\n",
      "print np.hstack((y_chap,y))"
     ],
     "language": "python",
     "metadata": {},
<<<<<<< HEAD
     "outputs": [
      {
       "output_type": "stream",
       "stream": "stdout",
       "text": [
        "[[-2 -1]\n",
        " [-2 -1]\n",
        " [-3 -1]\n",
        " [-2  0]\n",
        " [ 0  0]\n",
        " [-1  0]\n",
        " [ 1 -1]\n",
        " [-3  0]\n",
        " [-1  0]\n",
        " [-3 -1]]\n"
       ]
      }
     ],
     "prompt_number": 39
=======
     "outputs": [],
     "prompt_number": 72
>>>>>>> origin/master
    },
    {
     "cell_type": "code",
     "collapsed": false,
     "input": [
<<<<<<< HEAD
      "print y_pred*y\n",
      "y_pred*np.where(y_pred*y >= 0,0,-y_pred*y)"
     ],
     "language": "python",
     "metadata": {},
     "outputs": [
      {
       "output_type": "stream",
       "stream": "stdout",
       "text": [
        "[[ 1]\n",
        " [-2]\n",
        " [-2]\n",
        " [ 0]\n",
        " [ 0]\n",
        " [ 0]\n",
        " [-2]\n",
        " [ 0]\n",
        " [ 0]\n",
        " [ 0]]\n"
       ]
      },
      {
       "output_type": "pyout",
       "prompt_number": 41,
       "text": [
        "array([[0],\n",
        "       [4],\n",
        "       [4],\n",
        "       [0],\n",
        "       [0],\n",
        "       [0],\n",
        "       [4],\n",
        "       [0],\n",
        "       [0],\n",
        "       [0]])"
       ]
      }
     ],
     "prompt_number": 41
    },
    {
     "cell_type": "code",
     "collapsed": false,
     "input": [
      "delta_out = y_pred*np.where(y_pred*y >= 0,0,1)\n",
      "print delta_out"
     ],
     "language": "python",
     "metadata": {},
     "outputs": [
      {
       "output_type": "stream",
       "stream": "stdout",
       "text": [
        "[[ 1]\n",
        " [-3]\n",
        " [-2]\n",
        " [ 0]\n",
        " [ 0]\n",
        " [ 0]\n",
        " [ 2]\n",
        " [ 1]\n",
        " [ 0]\n",
        " [ 0]]\n"
       ]
      }
     ],
     "prompt_number": 35
=======
      "set=createGaussianDataset(1,1,1,-2,-2,1,20)\n",
      "plot2DSet(set)"
     ],
     "language": "python",
     "metadata": {},
     "outputs": [],
     "prompt_number": 74
>>>>>>> origin/master
    },
    {
     "cell_type": "code",
     "collapsed": true,
     "input": [
      "class Loss:\n",
      "    \n",
      "    #Calcule la valeur du loss \u00e9tant donn\u00e9es les valeurs pr\u00e9dites et d\u00e9sir\u00e9es\n",
      "    def getLossValue(self,predicted_output,desired_output):\n",
      "        pass\n",
      "\n",
      "    #Calcule le gradient (pour chaque celllule d'entr\u00e9e) du co\u00fbt\n",
      "    def backward(self, predicted_output,desired_output):\n",
      "        pass"
     ],
     "language": "python",
     "metadata": {},
     "outputs": [],
<<<<<<< HEAD
     "prompt_number": 42
    },
    {
     "cell_type": "code",
     "collapsed": false,
     "input": [
      "        "
     ],
     "language": "python",
     "metadata": {},
     "outputs": [],
     "prompt_number": 46
=======
     "prompt_number": 9
>>>>>>> origin/master
    },
    {
     "cell_type": "markdown",
     "metadata": {},
     "source": [
      "Impl\u00e9menter le co\u00fbt des moindres carr\u00e9s selon cette sp\u00e9cification"
     ]
    },
    {
     "cell_type": "code",
     "collapsed": true,
     "input": [
<<<<<<< HEAD
      "class SquareLoss(Loss):\n",
=======
      "#Square loss = ||y_pred-y||^2\n",
      "\n",
      "class SquareLoss(Loss): \n",
      "       #Calcule la valeur du loss \u00e9tant donn\u00e9es les valeurs pr\u00e9dites et d\u00e9sir\u00e9es\n",
      "    def getLossValue(self,predicted_output,desired_output):\n",
      "        y_pred = predicted_output\n",
      "        y = desired_output\n",
      "        \n",
      "        return sum( np.square(y_pred-y) )\n",
      "    \n",
      "    #Calcule le gradient (pour chaque celllule d'entr\u00e9e) du co\u00fbt\n",
      "    def backward(self, predicted_output,desired_output):\n",
      "        y_pred = predicted_output\n",
      "        y = desired_output\n",
      "        \n",
      "        delta_out = y_pred*2*(y_pred-y)\n",
      "        return delta_out\n",
>>>>>>> origin/master
      " \n"
     ],
     "language": "python",
     "metadata": {},
<<<<<<< HEAD
     "outputs": []
=======
     "outputs": [],
     "prompt_number": 10
>>>>>>> origin/master
    },
    {
     "cell_type": "markdown",
     "metadata": {},
     "source": [
      "Immpl\u00e9menter le ''hinge loss''"
     ]
    },
    {
     "cell_type": "code",
     "collapsed": true,
     "input": [
      "#Hinge loss = max(0,1-y_pred*y)\n",
      "class HingeLoss(Loss):\n",
      "    \n",
      "    def __init__(sefl,dimension):\n",
      "        self.dimension=dimension\n",
      "        \n",
      "       #Calcule la valeur du loss \u00e9tant donn\u00e9es les valeurs pr\u00e9dites et d\u00e9sir\u00e9es\n",
      "    def getLossValue(self,predicted_output,desired_output):\n",
      "        y_pred = predicted_output\n",
      "        y = desired_output\n",
      "        return sum( np.square(y_pred-y) )\n",
      "    #Calcule le gradient (pour chaque celllule d'entr\u00e9e) du co\u00fbt\n",
      "    def backward(self, predicted_output,desired_output):\n",
      "        y_pred = predicted_output\n",
      "        y = desired_output\n",
      "        delta_out = y_pred*np.where(y_pred*y >= 0,0,-y_pred)\n",
      "        return delta_out\n"
     ],
     "language": "python",
     "metadata": {},
<<<<<<< HEAD
     "outputs": []
=======
     "outputs": [],
     "prompt_number": 11
    },
    {
     "cell_type": "code",
     "collapsed": false,
     "input": [
      "y_pred = np.random.randint(-3,3,(10,1))\n",
      "y =np.random.randint(-3,3,(10,1))\n",
      "print \"y_pred | y\\n\", np.hstack((y_pred,y))\n",
      "A = SquareLoss(100);\n",
      "B = HingeLoss(1);\n",
      "print \"(Square | Hinge) getlossvalue  \\n\", np.hstack((A.getLossValue(y_pred,y),B.getLossValue(y_pred,y)))\n",
      "print \"(Square | Hinge) backward \\n\", np.hstack((A.backward(y_pred,y),B.backward(y_pred,y)))"
     ],
     "language": "python",
     "metadata": {},
     "outputs": [
      {
       "output_type": "stream",
       "stream": "stdout",
       "text": [
        "y_pred | y\n",
        "[[ 1  1]\n",
        " [-3 -3]\n",
        " [ 1  1]\n",
        " [ 0 -2]\n",
        " [ 2 -3]\n",
        " [ 0 -2]\n",
        " [ 1  0]\n",
        " [-1 -2]\n",
        " [ 1  1]\n",
        " [ 1  0]]\n",
        "(Square | Hinge) getlossvalue  \n",
        "[36 36]\n",
        "(Square | Hinge) backward \n",
        "[[ 0  0]\n",
        " [ 0  0]\n",
        " [ 0  0]\n",
        " [ 0  0]\n",
        " [20 -4]\n",
        " [ 0  0]\n",
        " [ 2  0]\n",
        " [-2  0]\n",
        " [ 0  0]\n",
        " [ 2  0]]\n"
       ]
      }
     ],
     "prompt_number": 12
>>>>>>> origin/master
    },
    {
     "cell_type": "markdown",
     "metadata": {},
     "source": [
      "Impl\u00e9mentation des Modules\n",
      "======\n",
      "\n",
      "Nous allons maintenant impl\u00e9menter quelques modules de base"
     ]
    },
    {
     "cell_type": "code",
     "collapsed": true,
     "input": [
      "class Module:\n",
      "    \n",
      "    #Permet le calcul de la sortie du module\n",
      "    def forward(self,input):\n",
      "        pass\n",
      "    \n",
      "    #Permet le calcul du gradient des cellules d'entr\u00e9e (delta_i), puis update le gradient backward\n",
      "    def backward_delta(self,input,delta_module_suivant):\n",
      "        pass\n",
      "    \n",
      "    #Permet d'initialiser le gradient du module\n",
      "    def init_gradient(self):\n",
      "        pass\n",
      "    \n",
      "    #Permet la mise \u00e0 jour des parma\u00e8tres du module avcec la valeur courante di gradient\n",
      "    def update_parameters(self,gradient_step):\n",
      "        pass\n",
      "    \n",
      "    #Permet de mettre \u00e0 jour la valeur courante du gradient par addition\n",
      "    def backward_update_gradient(self,input,delta_module_suivant):\n",
      "        pass\n",
      "    \n",
      "    #Permet de faire les deux backwar simultan\u00e9ment\n",
      "    def backward(self,input,delta_module_suivant):\n",
      "        self.backward_update_gradient(input,delta_module_suivant)\n",
      "        return self.backward_delta(input,delta_module_suivant)\n",
      "\n",
      "    #Retourne les param\u00e8tres du module\n",
      "    def get_parameters(self):\n",
      "        pass\n",
      "    \n",
      "    #Initialize al\u00e9atoirement les param\u00e8tres du module\n",
      "    def randomize_parameters(self, variance):\n",
      "        pass\n",
      "    \n",
      "    "
     ],
     "language": "python",
     "metadata": {},
     "outputs": [],
<<<<<<< HEAD
     "prompt_number": 1
=======
     "prompt_number": 70
>>>>>>> origin/master
    },
    {
     "cell_type": "markdown",
     "metadata": {},
     "source": [
      "Nous allons commencer par impl\u00e9menter le module lineaire classique (sans biais)"
     ]
    },
    {
     "cell_type": "code",
     "collapsed": true,
     "input": [
      "class LinearModule(Module):\n",
<<<<<<< HEAD
      "    pass"
     ],
     "language": "python",
     "metadata": {},
     "outputs": [],
     "prompt_number": 2
=======
      "    \n",
      "    \n",
      "    def __init__(self,input_dimension,output_dimension):\n",
      "        self.input_dimension = input_dimension\n",
      "        self.output_dimension = output_dimension \n",
      "        self.theta=np.zeros((input_dimension,output_dimension))\n",
      "        \n",
      "    #Permet le calcul de la sortie du module\n",
      "    def forward(self,input): #give him a vector\n",
      "        out = np.dot(input.T,theta)\n",
      "        return out\n",
      "    \n",
      "    #Permet le calcul du gradient des cellules d'entr\u00e9e (delta_i), puis update le gradient backward\n",
      "    def backward_delta(self,input,delta_module_suivant):\n",
      "        pass\n",
      "    \n",
      "    #Permet d'initialiser le gradient du module\n",
      "    def init_gradient(self):\n",
      "        pass\n",
      "    \n",
      "    #Permet la mise \u00e0 jour des parma\u00e8tres du module avcec la valeur courante di gradient\n",
      "    def update_parameters(self,gradient_step):\n",
      "        pass\n",
      "    \n",
      "    #Permet de mettre \u00e0 jour la valeur courante du gradient par addition\n",
      "    def backward_update_gradient(self,input,delta_module_suivant):\n",
      "        pass\n",
      "\n",
      "    #Retourne les param\u00e8tres du module\n",
      "    def get_parameters(self):\n",
      "        return self.theta\n",
      "    \n",
      "    #Initialize al\u00e9atoirement les param\u00e8tres du module\n",
      "    def randomize_parameters(self, variance):\n",
      "        self.theta = np.random.randint(0,5,[self.input_dimension,self.output_dimension])\n",
      "        return self.theta\n",
      "    \n",
      "        \n",
      "    \n",
      "    "
     ],
     "language": "python",
     "metadata": {},
     "outputs": [],
     "prompt_number": 128
    },
    {
     "cell_type": "code",
     "collapsed": false,
     "input": [
      "set=createGaussianDataset(1,1,1,-2,-2,1,10)\n",
      "#plot2DSet(set)\n",
      "Hinge = HingeLoss()\n",
      "A = LinearModule(2,3)\n",
      "theta = A.randomize_parameters(1)\n",
      "print 'getparam \\n',A.get_parameters()\n",
      "y_pred = A.forward(set.x[0])\n",
      "\n"
     ],
     "language": "python",
     "metadata": {},
     "outputs": [
      {
       "output_type": "stream",
       "stream": "stdout",
       "text": [
        "getparam \n",
        "[[1 3 0]\n",
        " [4 0 0]]\n"
       ]
      },
      {
       "output_type": "pyout",
       "prompt_number": 139,
       "text": [
        "(3,)"
       ]
      }
     ],
     "prompt_number": 139
    },
    {
     "cell_type": "code",
     "collapsed": false,
     "input": [],
     "language": "python",
     "metadata": {},
     "outputs": [
      {
       "output_type": "pyout",
       "prompt_number": 79,
       "text": [
        "(20, 2)"
       ]
      }
     ],
     "prompt_number": 79
>>>>>>> origin/master
    },
    {
     "cell_type": "markdown",
     "metadata": {},
     "source": [
      "Test du Syst\u00e8me\n",
      "======\n",
      "\n",
      "Nous allons maintenant tester notre syst\u00e8me (Module Lin\u00e9aire-> Square Loss) sur un jeu de donn\u00e9es classiques (jeu en 2D du TP pr\u00e9c\u00e9dent). Est-ce que ca marche ? \n",
      "Essayez maintenant avec un hinge loss. Est-ce que ca marche?"
     ]
    },
    {
     "cell_type": "code",
     "collapsed": true,
     "input": [],
     "language": "python",
     "metadata": {},
     "outputs": []
    },
    {
     "cell_type": "markdown",
     "metadata": {},
     "source": [
      "Modules Additionnels\n",
      "======\n",
      "\n",
      "Nous allons impl\u00e9menter les modules suivants:\n",
      "* Module Tangente Hyperbolic\n",
      "* Module S\u00e9quentiel\n",
      "\n",
      "Nous pouvons maintenant faire des r\u00e9seaux de neurones ! "
     ]
    }
   ],
   "metadata": {}
  }
 ]
}