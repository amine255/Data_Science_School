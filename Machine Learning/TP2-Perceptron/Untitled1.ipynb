{
 "metadata": {
  "name": "",
  "signature": "sha256:a368496db43c967bb8a73b83110fcee9da6e89148a1b4b7a954e7bf2f08c5ae6"
 },
 "nbformat": 3,
 "nbformat_minor": 0,
 "worksheets": []
}