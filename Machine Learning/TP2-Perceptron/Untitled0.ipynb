{
 "metadata": {
  "name": "",
  "signature": "sha256:e1ef913655abcd54e18fef21b9461aa194a402ae55a23e1e449ab8c92d499465"
 },
 "nbformat": 3,
 "nbformat_minor": 0,
 "worksheets": [
  {
   "cells": [
    {
     "cell_type": "code",
     "collapsed": false,
     "input": [
      "from random import choice\n",
      "from numpy import array, dot, random\n",
      "\n",
      "unit_step = lambda x: 0 if x < 0 else 1\n",
      "\n",
      "training_data = [\n",
      "    (array([0,0,1]), 0),\n",
      "    (array([0,1,1]), 1),\n",
      "    (array([1,0,1]), 1),\n",
      "    (array([1,1,1]), 1),\n",
      "]\n",
      "\n",
      "w = random.rand(3)\n",
      "errors = []\n",
      "eta = 0.2\n",
      "n = 100\n",
      "\n",
      "for i in xrange(n):\n",
      "    x, expected = choice(training_data)\n",
      "    result = dot(w, x)\n",
      "    error = expected - unit_step(result)\n",
      "    errors.append(error)\n",
      "    w += eta * error * x\n",
      "\n",
      "for x, _ in training_data:\n",
      "    result = dot(x, w)\n",
      "    print(\"{}: {} -> {}\".format(x[:2], result, unit_step(result)))"
     ],
     "language": "python",
     "metadata": {},
     "outputs": [
      {
       "output_type": "stream",
       "stream": "stdout",
       "text": [
        "[0 0]: -0.0868474058897 -> 0\n",
        "[0 1]: 0.581475749184 -> 1\n",
        "[1 0]: 0.892803192497 -> 1\n",
        "[1 1]: 1.56112634757 -> 1\n"
       ]
      }
     ],
     "prompt_number": 1
    },
    {
     "cell_type": "code",
     "collapsed": false,
     "input": [
      "from random import choice\n",
      "from numpy import array, dot, random\n",
      "\n",
      "unit_step = lambda x: 0 if x < 0 else 1\n",
      "\n",
      "training_data = [\n",
      "    (array([0,0,1]), 0),\n",
      "    (array([0,1,1]), 1),\n",
      "    (array([1,0,1]), 1),\n",
      "    (array([1,1,1]), 1),\n",
      "]\n",
      "\n",
      "w = random.rand(3)\n",
      "errors = []\n",
      "eta = 0.2\n",
      "n = 100\n",
      "print choice(training_data)\n",
      "\n",
      "for i in xrange(n):\n",
      "    x, expected = choice(training_data)\n",
      "    result = dot(w, x)\n",
      "    error = expected - unit_step(result)\n",
      "    errors.append(error)\n",
      "    w += eta * error * x\n",
      "    "
     ],
     "language": "python",
     "metadata": {},
     "outputs": [
      {
       "output_type": "stream",
       "stream": "stdout",
       "text": [
        "(array([0, 1, 1]), 1)\n"
       ]
      }
     ],
     "prompt_number": 2
    },
    {
     "cell_type": "code",
     "collapsed": false,
     "input": [
      "print x ,expected,w \n",
      "print dot(x,w)\n",
      "print unit_step(dot(x,w))\n",
      "result"
     ],
     "language": "python",
     "metadata": {},
     "outputs": [
      {
       "output_type": "stream",
       "stream": "stdout",
       "text": [
        "[1 1 1] 1 [ 0.6601824   0.30912374 -0.0025332 ]\n",
        "0.966772940225\n",
        "1\n"
       ]
      },
      {
       "metadata": {},
       "output_type": "pyout",
       "prompt_number": 16,
       "text": [
        "0.96677294022538718"
       ]
      }
     ],
     "prompt_number": 16
    },
    {
     "cell_type": "code",
     "collapsed": false,
     "input": [],
     "language": "python",
     "metadata": {},
     "outputs": []
    }
   ],
   "metadata": {}
  }
 ]
}