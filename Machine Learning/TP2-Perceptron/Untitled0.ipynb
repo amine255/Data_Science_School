{
 "metadata": {
  "name": "",
  "signature": "sha256:17a849c8e55f5356f83794da1833f9a2bb7b73463623a404d484850852169839"
 },
 "nbformat": 3,
 "nbformat_minor": 0,
 "worksheets": [
  {
   "cells": [
    {
     "cell_type": "code",
     "collapsed": false,
     "input": [
      "from random import choice\n",
      "import numpy as np\n",
      "from numpy import array, dot, random\n",
      "class createGaussianDataset:\n",
      "    \n",
      "    \n",
      "    def __init__(self,positive_center_1,positive_center_2,positive_sigma,negative_center_1,negative_center_2,negative_sigma,nb_points):\n",
      "      \n",
      "        #Center of the two gaussian distribution\n",
      "        mean1 = np.array([positive_center_1,positive_center_2])\n",
      "        mean2 = np.array([negative_center_1,negative_center_2])\n",
      "     \n",
      "        #Covariance matrix of the two gaussian distribution\n",
      "        cov1 = positive_sigma*np.eye(mean1.shape[0])\n",
      "        cov2 = negative_sigma*np.eye(mean2.shape[0])\n",
      "           \n",
      "        #Generating gaussian data1 with corresponding label1 \n",
      "        self.data1 = np.random.multivariate_normal(mean1,cov1,nb_points)\n",
      "        self.label1 = np.ones((self.data1.shape[0],1))\n",
      "        \n",
      "        #Generating gaussian data2 with corresponding label2\n",
      "        self.data2 = np.random.multivariate_normal(mean2,cov2,nb_points)\n",
      "        self.label2 = -np.ones((self.data2.shape[0],1))\n",
      "        \n",
      "    def getXs(self):\n",
      "        #Concatenate data1 and data1 to forme the dataset\n",
      "        data = np.vstack((self.data1,self.data2))\n",
      "        return data\n",
      "        \n",
      "    \n",
      "    def getYs(self):\n",
      "        #Concatenate label1 and label2 to form label\n",
      "        label = np.vstack((self.label1,self.label2))\n",
      "        return label\n",
      "\n"
     ],
     "language": "python",
     "metadata": {},
     "outputs": [],
     "prompt_number": 64
    },
    {
     "cell_type": "code",
     "collapsed": false,
     "input": [
      "fulldata=createGaussianDataset(1,1,1,-1,-1,1,500)\n",
      "\n",
      "data = fulldata.getXs()\n",
      "data = np.hstack(( np.ones((data.shape[0],1)),data  ))\n",
      "\n",
      "label = fulldata.getYs()\n",
      "\n",
      "theta = np.zeros((data.shape[1],1))\n"
     ],
     "language": "python",
     "metadata": {},
     "outputs": [],
     "prompt_number": 65
    },
    {
     "cell_type": "code",
     "collapsed": false,
     "input": [],
     "language": "python",
     "metadata": {},
     "outputs": [],
     "prompt_number": 52
    },
    {
     "cell_type": "code",
     "collapsed": false,
     "input": [
      "new_data = [None]*data.shape[0]\n",
      "print len(new_data)\n",
      "\n",
      "for i in range(len(new_data)):\n",
      "    x = data[i,1]\n",
      "    y = data[i,2]\n",
      "    \n",
      "    new_data[i] =  ( array([x,y,1]), label[i,0])"
     ],
     "language": "python",
     "metadata": {},
     "outputs": [
      {
       "output_type": "stream",
       "stream": "stdout",
       "text": [
        "1000\n"
       ]
      }
     ],
     "prompt_number": 66
    },
    {
     "cell_type": "code",
     "collapsed": false,
     "input": [],
     "language": "python",
     "metadata": {},
     "outputs": [],
     "prompt_number": 53
    },
    {
     "cell_type": "code",
     "collapsed": false,
     "input": [
      "unit_step = lambda x: 0 if x < 0 else 1\n",
      "\n",
      "#training_data = [\n",
      " #   (array([0,0,1]), 0),\n",
      "  #  (array([0,1,1]), 1),\n",
      "   # (array([1,0,1]), 1),\n",
      "    #(array([1,1,1]), 1),\n",
      "#]\n",
      "\n",
      "#traning_data = new_data\n",
      "\n",
      "print training_data\n",
      "\n",
      "w = np.zeros(3)\n",
      "errors = []\n",
      "eta = 0.2\n",
      "n = 1000\n",
      "\n",
      "for i in xrange(n):\n",
      "    x, expected = choice(new_data)\n",
      "    result = dot(w, x)\n",
      "    error = expected - unit_step(result)\n",
      "    errors.append(error)\n",
      "    w += eta * error * x\n",
      "\n",
      "#for x, _ in new_data:\n",
      " #   result = dot(x, w)\n",
      "  #  print(\"{}: {} -> {}\".format(x[:2], result, unit_step(result)))\n",
      "print w"
     ],
     "language": "python",
     "metadata": {},
     "outputs": [
      {
       "output_type": "stream",
       "stream": "stdout",
       "text": [
        "[(array([0, 0, 1]), 0), (array([0, 1, 1]), 1), (array([1, 0, 1]), 1), (array([1, 1, 1]), 1)]\n",
        "[ 100.24119229  111.27644633  -84.4       ]\n"
       ]
      }
     ],
     "prompt_number": 76
    },
    {
     "cell_type": "code",
     "collapsed": false,
     "input": [
      "print w.shape"
     ],
     "language": "python",
     "metadata": {},
     "outputs": [
      {
       "output_type": "stream",
       "stream": "stdout",
       "text": [
        "(3,)\n"
       ]
      }
     ],
     "prompt_number": 71
    },
    {
     "cell_type": "code",
     "collapsed": false,
     "input": [],
     "language": "python",
     "metadata": {},
     "outputs": []
    }
   ],
   "metadata": {}
  }
 ]
}