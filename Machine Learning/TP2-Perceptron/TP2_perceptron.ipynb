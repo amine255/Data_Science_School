{
 "metadata": {
  "name": "",
  "signature": "sha256:aa12b340739afb4ace6067c683fbc8a53fb9419810bb12f0b1ee1197a14c177f"
 },
 "nbformat": 3,
 "nbformat_minor": 0,
 "worksheets": [
  {
   "cells": [
    {
     "cell_type": "markdown",
     "metadata": {},
     "source": [
      "TP2 : Programmation du Perceptron\n",
      "=======\n",
      "\n",
      "Dans ce TP, nous allons principalement programmer un perceptron, et mettre en place une \"architecture\" de code nous permettant petit \u00e0 petit d'impl\u00e9menter des Deep Neural Networks. "
     ]
    },
    {
     "cell_type": "code",
     "collapsed": false,
     "input": [
      "import numpy as np\n",
      "import pandas as pd\n",
      "\n"
     ],
     "language": "python",
     "metadata": {},
     "outputs": [],
     "prompt_number": 1
    },
    {
     "cell_type": "markdown",
     "metadata": {},
     "source": [
      "Etape 1: Dataset\n",
      "------\n",
      "\n",
      "La premi\u00e8re \u00e9tape consiste \u00e0 d\u00e9finir une classe permettant de stocker les donn\u00e9es d'apprentissage, de validation et de test. Nous consid\u00e9rerons que les donn\u00e9es tiennent en m\u00e9moire. Nous allons d\u00e9finir une classe permettant de stocker des couples $\\{(x_1,y_1),...,(x_n,y_n)\\}$. Les $x_i$ et $y_i$ seront des tableaux numpy "
     ]
    },
    {
     "cell_type": "code",
     "collapsed": true,
     "input": [
      "class LabeledSet:\n",
      "    \n",
      "    def __init__(self,x,y,input_dim,output_dim):\n",
      "        self.x = x\n",
      "        self.y = y \n",
      "        self.input_dim = x.shape\n",
      "        self.output_dim = y.shape\n",
      "        \n",
      "    #Renvoie la dimension de l'espace d'entr\u00e9e\n",
      "    def getInputDimension(self):\n",
      "        return self.input_dim\n",
      "        \n",
      "    #Renvoie la dimension de l'espace de sortie\n",
      "    def getOutputDimension(self):\n",
      "        return self.output_dim\n",
      "        \n",
      "    #Renvoie le nombre d'exemple dans le set\n",
      "    def size(self):\n",
      "        return self.x.size\n",
      "    #Renvoie la valeur de x_i\n",
      "    def getX(self,i):\n",
      "        return self.x[i]\n",
      "    \n",
      "    #Renvouie la valeur de y_i\n",
      "    def getY(self,i):\n",
      "       return self.y[i]\n",
      "\n",
      "        "
     ],
     "language": "python",
     "metadata": {},
     "outputs": [],
     "prompt_number": 2
    },
    {
     "cell_type": "markdown",
     "metadata": {},
     "source": [
      "Nous allons pour l'instant nous int\u00e9resser \u00e0 des datasets \"jouet\" g\u00e9n\u00e9res selon des distributions choisies \u00e0 la main. Commen\u00e7ons par un dataset en 2 dimensions (entr\u00e9e) et 1 dimension (sortie): $x_i \\in \\mathbb{R}^2$, $y_i \\in [-1;+1]$ telle que les donn\u00e9es sont g\u00e9n\u00e9res selon deux Gaussiennes. Pour cela, nous utiliserons la fonction numpy.random.multivariate_normal  - http://docs.scipy.org/doc/numpy/reference/generated/numpy.random.multivariate_normal.html -  ainsi que la m\u00e9thode numpy.vstack  - http://docs.scipy.org/doc/numpy/reference/generated/numpy.vstack.html - pour concaterner des vecteurs "
     ]
    },
    {
     "cell_type": "code",
     "collapsed": true,
     "input": [
      "def createGaussianDataset(positive_center_1,positive_center_2,positive_sigma,negative_center_1,negative_center_2,negative_sigma,nb_points):\n",
      "    #Center of the two gaussian distribution\n",
      "    mean1 = np.array([positive_center_1,positive_center_2])\n",
      "    mean2 = np.array([negative_center_1,negative_center_2])\n",
      "     \n",
      "    #Covariance matrix of the two gaussian distribution\n",
      "    cov1 = positive_sigma*np.eye(mean1.shape[0])\n",
      "    cov2 = negative_sigma*np.eye(mean2.shape[0])\n",
      "           \n",
      "    #Generating gaussian data1 with corresponding label1 \n",
      "    data1 = np.random.multivariate_normal(mean1,cov1,nb_points)\n",
      "    label1 = np.ones((data1.shape[0],1))\n",
      "        \n",
      "    #Generating gaussian data2 with corresponding label2\n",
      "    data2 = np.random.multivariate_normal(mean2,cov2,nb_points)\n",
      "    label2 = -np.ones((data2.shape[0],1))\n",
      "        \n",
      "    x=np.vstack((data1,data2))\n",
      "    y=np.vstack((label1,label2))\n",
      "    \n",
      "    set=LabeledSet(x,y,2,1)\n",
      "    return set\n"
     ],
     "language": "python",
     "metadata": {},
     "outputs": [],
     "prompt_number": 3
    },
    {
     "cell_type": "markdown",
     "metadata": {},
     "source": [
      "Le data set peut \u00eatre affich\u00e9 en utilisatn matplotlib (pour v\u00e9rifier). Nous utiliserons la commande matplotlib.pyplot.scatter permettant de dessiner un nuage de points - http://matplotlib.org/api/pyplot_api.html#matplotlib.pyplot.scatter -"
     ]
    },
    {
     "cell_type": "code",
     "collapsed": true,
     "input": [
      "import matplotlib.pyplot as plt\n",
      "\n",
      "def plot2DSet(set):\n",
      "    plt.scatter(set.x[:,0],set.x[:,1], c=set.y)\n",
      "    plt.legend()\n",
      "    plt.show()\n",
      "    return"
     ],
     "language": "python",
     "metadata": {},
     "outputs": [],
     "prompt_number": 4
    },
    {
     "cell_type": "markdown",
     "metadata": {},
     "source": [
      "Maintenant, nous allons faire la m\u00eame chose, mais en dessinant une fronti\u00e8re de d\u00e9cision donn\u00e9e par une fonction $f : \\mathbb{R}^2 \\rightarrow \\mathbb{R}^1$"
     ]
    },
    {
     "cell_type": "code",
     "collapsed": false,
     "input": [
      "def plot_frontiere(x,f,step=20):\n",
      "    mmax=x.max(0)\n",
      "    mmin=x.min(0)\n",
      "    x1grid,x2grid=np.meshgrid(np.linspace(mmin[0],mmax[0],step),np.linspace(mmin[1],mmax[1],step))\n",
      "    grid=np.hstack((x1grid.reshape(x1grid.size,1),x2grid.reshape(x2grid.size,1)))\n",
      "    \n",
      "    # calcul de la prediction pour chaque point de la grille\n",
      "    res=np.array([f(grid[i,:])[0] for i in range(len(grid)) ])\n",
      "    res=res.reshape(x1grid.shape)\n",
      "    # tracer des frontieres\n",
      "    plt.contourf(x1grid,x2grid,res,colors=[\"orange\",\"gray\"],levels=[-1000,0,1000],linewidth=2)\n",
      "\n",
      "\n",
      "def f(x):\n",
      "    score=[x[0]+x[1]]\n",
      "    return(score)\n",
      "\n",
      "#set=createGaussianDataset(1,1,1,-2,-2,1,200)\n",
      "\n",
      "#plot_frontiere(set.x,f)\n",
      "#plot2DSet(set)\n",
      "\n",
      "\n",
      "\n"
     ],
     "language": "python",
     "metadata": {},
     "outputs": [],
     "prompt_number": 5
    },
    {
     "cell_type": "markdown",
     "metadata": {},
     "source": [
      "Etape 2 : Le Perceptron\n",
      "--------"
     ]
    },
    {
     "cell_type": "markdown",
     "metadata": {},
     "source": [
      "Nous allons commencer par cr\u00e9er une classe permettant de d\u00e9finir un pr\u00e9dicteur. Basiquement, un pr\u00e9dicteur est une fonction qui prend un vecteur et produit un vecteur, et que l'on peut entrainer sur un \"dataset\""
     ]
    },
    {
     "cell_type": "code",
     "collapsed": true,
     "input": [
      "class Predictor:\n",
      "    def __init__(self):\n",
      "        raise NotImplementedError(\"Please Implement this method\")\n",
      "\n",
      "    \n",
      "    #Permet de calculer la prediction sur x\n",
      "    def predict(self,x):\n",
      "        raise NotImplementedError(\"Please Implement this method\")\n",
      "\n",
      "    \n",
      "    #Permet d'entrainer le modele\n",
      "    def train(self,labeledSet):\n",
      "        raise NotImplementedError(\"Please Implement this method\")\n",
      "    \n",
      "    #Permet de calculer la qualit\u00e9 du syst\u00e8me (en classification monolabel). ATTENTION, deux cas: outputDimension==1 et outputDimension>1\n",
      "    def computeMonolabelAccuracy(self,labeledSet):\n",
      "        prediction_raw = perceptron.predict(labeledSet.x)\n",
      "        prediction = np.where( prediction_raw  > np.zeros(( labeledSet.x.shape[0],1)),1,-1) \n",
      "        \n",
      "        accuracy = sum(np.where(prediction == labeledSet.y,1,0))*100/labeledSet.y.shape[0]    \n",
      "        return \"The accuracy is: \", accuracy\n",
      "        \n",
      "                "
     ],
     "language": "python",
     "metadata": {},
     "outputs": [],
     "prompt_number": 6
    },
    {
     "cell_type": "markdown",
     "metadata": {},
     "source": [
      "Le premier classifieur \u00e0 impl\u00e9menter sera le classifieur perceptron vu en cours"
     ]
    },
    {
     "cell_type": "code",
     "collapsed": true,
     "input": [
      "class Perceptron(Predictor):\n",
      "    \n",
      "    def __init__(self,gradient_step,nb_iterations):\n",
      "        self.learning_rate = gradient_step\n",
      "        self.nb_iterations = nb_iterations\n",
      "        \n",
      "        \n",
      "        self.theta = 0\n",
      "        \n",
      "    def predict(self,x):\n",
      "        #print theta.shape\n",
      "        #print x.shape\n",
      "        return [np.dot(x,self.theta)]\n",
      "        \n",
      "            \n",
      "    def train(self,labeledSet):\n",
      "              \n",
      "        label = labeledSet.y\n",
      "        data = labeledSet.x\n",
      "        \n",
      "        self.theta = np.zeros((data.shape[1],1))\n",
      "        \n",
      "        eta = self.learning_rate\n",
      "        n = self.nb_iterations\n",
      "    \n",
      "\n",
      "        for i in range(n):\n",
      "            self.computeMonolabelAccuracy(labeledSet)\n",
      "            \n",
      "            t =np.random.choice(data.shape[0])\n",
      "            x = data[t,:]\n",
      "\n",
      "            prediction = self.predict(x)\n",
      "   \n",
      "            expected = label[t,0]\n",
      "            ypredit=prediction[0]\n",
      "\n",
      "            if (ypredit*expected<=0):\n",
      "                \n",
      "                learning = eta*expected*x ; #print learning\n",
      "                learning.shape = ((self.theta.shape[0],1))\n",
      "                self.theta+=learning\n",
      "        \n",
      "        \n",
      "        \n",
      "        return self.theta     \n",
      "     "
     ],
     "language": "python",
     "metadata": {},
     "outputs": [],
     "prompt_number": 48
    },
    {
     "cell_type": "markdown",
     "metadata": {},
     "source": [
      "On va maintenant tester notre perceptron sur l'ensemble pr\u00e9c\u00e9dent, Visualiser la frontiere de d\u00e9cision obtenus"
     ]
    },
    {
     "cell_type": "code",
     "collapsed": false,
     "input": [
      "#Sans ajout du bias, l'hyperplan est obliger de passer par zero: ax+by = 0\n",
      "\n",
      "#trainset=createGaussianDataset(1,1,1,4,4,1,500)\n",
      "#trainset=createGaussianDataset(-2,-2,1,3,3,1,100)\n",
      "trainset=createGaussianDataset(-2,-2,0.5,1,1,0.5,100)\n",
      "#plot2DSet(trainset)\n",
      "\n",
      "perceptron=Perceptron(0.01,100)\n",
      "theta  = perceptron.train(trainset)\n",
      "\n",
      "\n",
      "plot_frontiere(trainset.x,perceptron.predict)\n",
      "plot2DSet(trainset)\n",
      "\n"
     ],
     "language": "python",
     "metadata": {},
     "outputs": [
      {
       "metadata": {},
       "output_type": "display_data",
       "png": "[encoded data removed]",
       "text": [
        "<matplotlib.figure.Figure at 0x7fd401a53f90>"
       ]
      }
     ],
     "prompt_number": 77
    },
    {
     "cell_type": "code",
     "collapsed": false,
     "input": [],
     "language": "python",
     "metadata": {},
     "outputs": [],
     "prompt_number": 35
    },
    {
     "cell_type": "markdown",
     "metadata": {},
     "source": [
      "Etape 3 : Tester le Perceptron\n",
      "------\n",
      "On va maintenant cr\u00e9er des ensembles de test et de train selon plusieurs distribution et tracer les courbes d'apprentissage (accuraacy) sur train et test dans le temps. Pouvez vous faire apparaitre un effet de sur-apprentissage? "
     ]
    },
    {
     "cell_type": "code",
     "collapsed": true,
     "input": [],
     "language": "python",
     "metadata": {},
     "outputs": [],
     "prompt_number": 10
    },
    {
     "cell_type": "markdown",
     "metadata": {},
     "source": [
      "Pouvez vous faire apparaitre un cas ou le perceptron ne peut pas apprendre"
     ]
    },
    {
     "cell_type": "code",
     "collapsed": true,
     "input": [],
     "language": "python",
     "metadata": {},
     "outputs": [],
     "prompt_number": 10
    },
    {
     "cell_type": "markdown",
     "metadata": {},
     "source": [
      "Etape 4 : Kernel Trick\n",
      "-----\n",
      "On va transformer nos vecteurs d'entr\u00e9e de la mani\u00e8re suivante: $(x_1,x_2) \\rightarrow $(x_1,x_2,1)$. Apprenez le perceptron sur le nouvel ensemble et visualisez sa frontiere de d\u00e9cision. Que pouvez vous dire ? "
     ]
    },
    {
     "cell_type": "code",
     "collapsed": false,
     "input": [
      "def kernel_bias(x):\n",
      "    n = x.shape[0]\n",
      "    return np.hstack((x ,np.ones((n, 1))  ))\n",
      "        \n",
      "def kernel_poly(x):\n",
      "    output = np.zeros((x.shape[0],6))\n",
      "    \n",
      "    output[:,0]=x[:,0]\n",
      "    output[:,1]=x[:,1]\n",
      "    output[:,2]=np.ones((x.shape[0]))\n",
      "    output[:,3]=x[:,0]*x[:,0]\n",
      "    output[:,4]=x[:,1]*x[:,1]\n",
      "    output[:,5]=x[:,0]*x[:,1]\n",
      "\n",
      "    \n",
      "    return output  \n"
     ],
     "language": "python",
     "metadata": {},
     "outputs": [],
     "prompt_number": 11
    },
    {
     "cell_type": "code",
     "collapsed": true,
     "input": [
      "trainset = createGaussianDataset(4,4,1,9,9,1,200)\n",
      "\n",
      "\n",
      "#trainset.x = kernel_bias(trainset.x)\n",
      "trainset.x = kernel_poly(trainset.x)\n",
      "\n",
      "perceptron = Perceptron(0.001, 600)\n",
      "\n",
      "perceptron.train(trainset)\n",
      "\n",
      "#print \"ok\"\n",
      "\n",
      "def  plot_frontiere2(x, f, kernel, step=20):\n",
      "    mmax = x.max(0)\n",
      "    mmin = x.min(0)\n",
      "    x1grid , x2grid = np.meshgrid(np.linspace(mmin[0], mmax[0], step),\n",
      "                                  np.linspace(mmin[1], mmax[1], step))\n",
      "    grid = np.hstack((x1grid.reshape(x1grid.size, 1),\n",
      "                      x2grid.reshape(x2grid.size, 1)))\n",
      "    # calcul de la prediction pour chaque point de la grille\n",
      "    res = np.array([f(kernel(np.array([grid[i,:]]))[0])[0] for i in range(len(grid))])\n",
      "    res = res.reshape(x1grid.shape)\n",
      "    # tracer des frontieres\n",
      "    plt.contourf(x1grid, x2grid, res,\n",
      "                 colors=[\"orange\",\"gray\"], levels=[-1000, 0, 1000], linewidth=2)\n",
      "\n",
      "\n",
      "#plot_frontiere2(trainset.x, perceptron.predict, kernel_poly)\n",
      "#plot2DSet(trainset)"
     ],
     "language": "python",
     "metadata": {},
     "outputs": [],
     "prompt_number": 13
    },
    {
     "cell_type": "code",
     "collapsed": false,
     "input": [],
     "language": "python",
     "metadata": {},
     "outputs": [],
     "prompt_number": 12
    },
    {
     "cell_type": "markdown",
     "metadata": {},
     "source": [
      "On va transformer nos vecteurs d'entr\u00e9e de la mani\u00e8re suivante: $(x_1,x_2) \\rightarrow $(x_1,x_2,1,x_1*x_1,x_2*x_2,x_1*x_2)$. Apprenez le perceptron sur le nouvel ensemble et visualisez sa frontiere de d\u00e9cision. Que pouvez vous dire ? Pourquoi observe-t-on cette fronti\u00e8re de d\u00e9cision ? "
     ]
    },
    {
     "cell_type": "code",
     "collapsed": true,
     "input": [],
     "language": "python",
     "metadata": {},
     "outputs": [],
     "prompt_number": 13
    },
    {
     "cell_type": "markdown",
     "metadata": {},
     "source": [
      "Etape 5 : UCI\n",
      "-----\n",
      "\n",
      "Plusieurs datasets sont t\u00e9l\u00e9chargeables ici:  http://www.csie.ntu.edu.tw/~cjlin/libsvmtools/datasets/\n",
      "\n",
      "* Impl\u00e9mentez une fonction permettant de les charger\n",
      "* Impl\u00e9mnetez une fonction permettant de les \"splitter\" en train et test\n",
      "* Lancer les diff\u00e9rentes perceptrons la dessus et tracer les courbes de performance\n",
      "\n",
      "(Datasets conseill\u00e9s: sonar, jeart, breast-cancer et ionosphere)"
     ]
    },
    {
     "cell_type": "code",
     "collapsed": false,
     "input": [],
     "language": "python",
     "metadata": {},
     "outputs": []
    }
   ],
   "metadata": {}
  }
 ]
}